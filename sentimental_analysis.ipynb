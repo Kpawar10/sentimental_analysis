{
 "cells": [
  {
   "cell_type": "code",
   "execution_count": null,
   "metadata": {
    "colab": {
     "base_uri": "https://localhost:8080/"
    },
    "id": "YN_SRbazIpA-",
    "outputId": "dd1d25de-242a-42c4-88d3-154724e11335"
   },
   "outputs": [
    {
     "name": "stdout",
     "output_type": "stream",
     "text": [
      "Requirement already satisfied: kaggle in /usr/local/lib/python3.11/dist-packages (1.7.4.5)\n",
      "Requirement already satisfied: bleach in /usr/local/lib/python3.11/dist-packages (from kaggle) (6.2.0)\n",
      "Requirement already satisfied: certifi>=14.05.14 in /usr/local/lib/python3.11/dist-packages (from kaggle) (2025.6.15)\n",
      "Requirement already satisfied: charset-normalizer in /usr/local/lib/python3.11/dist-packages (from kaggle) (3.4.2)\n",
      "Requirement already satisfied: idna in /usr/local/lib/python3.11/dist-packages (from kaggle) (3.10)\n",
      "Requirement already satisfied: protobuf in /usr/local/lib/python3.11/dist-packages (from kaggle) (5.29.5)\n",
      "Requirement already satisfied: python-dateutil>=2.5.3 in /usr/local/lib/python3.11/dist-packages (from kaggle) (2.9.0.post0)\n",
      "Requirement already satisfied: python-slugify in /usr/local/lib/python3.11/dist-packages (from kaggle) (8.0.4)\n",
      "Requirement already satisfied: requests in /usr/local/lib/python3.11/dist-packages (from kaggle) (2.32.3)\n",
      "Requirement already satisfied: setuptools>=21.0.0 in /usr/local/lib/python3.11/dist-packages (from kaggle) (75.2.0)\n",
      "Requirement already satisfied: six>=1.10 in /usr/local/lib/python3.11/dist-packages (from kaggle) (1.17.0)\n",
      "Requirement already satisfied: text-unidecode in /usr/local/lib/python3.11/dist-packages (from kaggle) (1.3)\n",
      "Requirement already satisfied: tqdm in /usr/local/lib/python3.11/dist-packages (from kaggle) (4.67.1)\n",
      "Requirement already satisfied: urllib3>=1.15.1 in /usr/local/lib/python3.11/dist-packages (from kaggle) (2.4.0)\n",
      "Requirement already satisfied: webencodings in /usr/local/lib/python3.11/dist-packages (from kaggle) (0.5.1)\n"
     ]
    }
   ],
   "source": [
    "#installing kaggle library\n",
    "! pip install kaggle\n"
   ]
  },
  {
   "cell_type": "code",
   "execution_count": null,
   "metadata": {
    "id": "d0kjruuxJflQ"
   },
   "outputs": [],
   "source": [
    "# configuring path of kaggle.json file\n",
    "!mkdir -p ~/.kaggle\n",
    "!cp kaggle.json ~/.kaggle/\n",
    "!chmod 600 ~/.kaggle/kaggle.json"
   ]
  },
  {
   "cell_type": "code",
   "execution_count": null,
   "metadata": {
    "colab": {
     "base_uri": "https://localhost:8080/"
    },
    "id": "w8zFVB3XLDXS",
    "outputId": "9f013577-9ca3-4306-b65d-31630d511226"
   },
   "outputs": [
    {
     "name": "stdout",
     "output_type": "stream",
     "text": [
      "Dataset URL: https://www.kaggle.com/datasets/bwandowando/3-million-instagram-google-store-reviews\n",
      "License(s): CC0-1.0\n",
      "Downloading 3-million-instagram-google-store-reviews.zip to /content\n",
      " 72% 154M/214M [00:00<00:00, 741MB/s] \n",
      "100% 214M/214M [00:00<00:00, 452MB/s]\n"
     ]
    }
   ],
   "source": [
    "#api command\n",
    "!kaggle datasets download -d bwandowando/3-million-instagram-google-store-reviews\n"
   ]
  },
  {
   "cell_type": "code",
   "execution_count": null,
   "metadata": {
    "colab": {
     "base_uri": "https://localhost:8080/"
    },
    "id": "tvU2A68NNzf0",
    "outputId": "cb61fec4-1c75-4018-a6a0-92ff92b0f936"
   },
   "outputs": [
    {
     "name": "stdout",
     "output_type": "stream",
     "text": [
      "extracted\n"
     ]
    }
   ],
   "source": [
    "#extracting zip file\n",
    "from zipfile import ZipFile\n",
    "dataset = '/content/3-million-instagram-google-store-reviews.zip'\n",
    "with ZipFile(dataset,'r') as zip:\n",
    "  zip.extractall()\n",
    "  print('extracted')"
   ]
  },
  {
   "cell_type": "code",
   "execution_count": null,
   "metadata": {
    "id": "a6CnBy_42TAF"
   },
   "outputs": [],
   "source": [
    "#required libraries\n",
    "import numpy as np\n",
    "import pandas as pd\n",
    "import re\n",
    "from nltk.corpus import stopwords\n",
    "from nltk.stem.porter import PorterStemmer\n",
    "from sklearn.feature_extraction.text import TfidfVectorizer\n",
    "from sklearn.model_selection import train_test_split\n",
    "from sklearn.ensemble import RandomForestClassifier\n",
    "from sklearn.metrics import accuracy_score"
   ]
  },
  {
   "cell_type": "code",
   "execution_count": null,
   "metadata": {
    "colab": {
     "base_uri": "https://localhost:8080/"
    },
    "id": "Qn-wAYDMCB_3",
    "outputId": "d418f15f-4e99-47d8-e1aa-8e5615b68f29"
   },
   "outputs": [
    {
     "name": "stderr",
     "output_type": "stream",
     "text": [
      "[nltk_data] Downloading package stopwords to /root/nltk_data...\n",
      "[nltk_data]   Unzipping corpora/stopwords.zip.\n"
     ]
    },
    {
     "data": {
      "text/plain": [
       "True"
      ]
     },
     "execution_count": 6,
     "metadata": {},
     "output_type": "execute_result"
    }
   ],
   "source": [
    "import nltk\n",
    "nltk.download('stopwords')"
   ]
  },
  {
   "cell_type": "code",
   "execution_count": null,
   "metadata": {
    "colab": {
     "base_uri": "https://localhost:8080/"
    },
    "id": "RR--QOhvDYbY",
    "outputId": "d64f429f-55cc-4fa7-d1fe-aa46c58a2dd7"
   },
   "outputs": [
    {
     "name": "stdout",
     "output_type": "stream",
     "text": [
      "['a', 'about', 'above', 'after', 'again', 'against', 'ain', 'all', 'am', 'an', 'and', 'any', 'are', 'aren', \"aren't\", 'as', 'at', 'be', 'because', 'been', 'before', 'being', 'below', 'between', 'both', 'but', 'by', 'can', 'couldn', \"couldn't\", 'd', 'did', 'didn', \"didn't\", 'do', 'does', 'doesn', \"doesn't\", 'doing', 'don', \"don't\", 'down', 'during', 'each', 'few', 'for', 'from', 'further', 'had', 'hadn', \"hadn't\", 'has', 'hasn', \"hasn't\", 'have', 'haven', \"haven't\", 'having', 'he', \"he'd\", \"he'll\", 'her', 'here', 'hers', 'herself', \"he's\", 'him', 'himself', 'his', 'how', 'i', \"i'd\", 'if', \"i'll\", \"i'm\", 'in', 'into', 'is', 'isn', \"isn't\", 'it', \"it'd\", \"it'll\", \"it's\", 'its', 'itself', \"i've\", 'just', 'll', 'm', 'ma', 'me', 'mightn', \"mightn't\", 'more', 'most', 'mustn', \"mustn't\", 'my', 'myself', 'needn', \"needn't\", 'no', 'nor', 'not', 'now', 'o', 'of', 'off', 'on', 'once', 'only', 'or', 'other', 'our', 'ours', 'ourselves', 'out', 'over', 'own', 're', 's', 'same', 'shan', \"shan't\", 'she', \"she'd\", \"she'll\", \"she's\", 'should', 'shouldn', \"shouldn't\", \"should've\", 'so', 'some', 'such', 't', 'than', 'that', \"that'll\", 'the', 'their', 'theirs', 'them', 'themselves', 'then', 'there', 'these', 'they', \"they'd\", \"they'll\", \"they're\", \"they've\", 'this', 'those', 'through', 'to', 'too', 'under', 'until', 'up', 've', 'very', 'was', 'wasn', \"wasn't\", 'we', \"we'd\", \"we'll\", \"we're\", 'were', 'weren', \"weren't\", \"we've\", 'what', 'when', 'where', 'which', 'while', 'who', 'whom', 'why', 'will', 'with', 'won', \"won't\", 'wouldn', \"wouldn't\", 'y', 'you', \"you'd\", \"you'll\", 'your', \"you're\", 'yours', 'yourself', 'yourselves', \"you've\"]\n"
     ]
    }
   ],
   "source": [
    "print(stopwords.words('english'))"
   ]
  },
  {
   "cell_type": "code",
   "execution_count": null,
   "metadata": {
    "id": "-Y6Jy991Jeia"
   },
   "outputs": [],
   "source": [
    "df=pd.read_csv('/content/INSTAGRAM_REVIEWS.csv',encoding= 'ISO-8859-1')"
   ]
  },
  {
   "cell_type": "code",
   "execution_count": null,
   "metadata": {
    "colab": {
     "base_uri": "https://localhost:8080/"
    },
    "id": "G8Byuxc9f0Nc",
    "outputId": "7489bd61-44f5-4229-9c15-c1caaf8825c3"
   },
   "outputs": [
    {
     "data": {
      "text/plain": [
       "(3079939, 9)"
      ]
     },
     "execution_count": 9,
     "metadata": {},
     "output_type": "execute_result"
    }
   ],
   "source": [
    "df.shape"
   ]
  },
  {
   "cell_type": "code",
   "execution_count": null,
   "metadata": {
    "colab": {
     "base_uri": "https://localhost:8080/",
     "height": 521
    },
    "id": "pkajDj8ckSvX",
    "outputId": "38247945-25c5-4e0b-db37-546172b66edd"
   },
   "outputs": [
    {
     "data": {
      "application/vnd.google.colaboratory.intrinsic+json": {
       "type": "dataframe",
       "variable_name": "df"
      },
      "text/html": [
       "\n",
       "  <div id=\"df-7ee72cf3-748c-49ba-861b-db359a67332b\" class=\"colab-df-container\">\n",
       "    <div>\n",
       "<style scoped>\n",
       "    .dataframe tbody tr th:only-of-type {\n",
       "        vertical-align: middle;\n",
       "    }\n",
       "\n",
       "    .dataframe tbody tr th {\n",
       "        vertical-align: top;\n",
       "    }\n",
       "\n",
       "    .dataframe thead th {\n",
       "        text-align: right;\n",
       "    }\n",
       "</style>\n",
       "<table border=\"1\" class=\"dataframe\">\n",
       "  <thead>\n",
       "    <tr style=\"text-align: right;\">\n",
       "      <th></th>\n",
       "      <th>Unnamed: 0</th>\n",
       "      <th>review_id</th>\n",
       "      <th>pseudo_author_id</th>\n",
       "      <th>author_name</th>\n",
       "      <th>review_text</th>\n",
       "      <th>review_rating</th>\n",
       "      <th>review_likes</th>\n",
       "      <th>author_app_version</th>\n",
       "      <th>review_timestamp</th>\n",
       "    </tr>\n",
       "  </thead>\n",
       "  <tbody>\n",
       "    <tr>\n",
       "      <th>0</th>\n",
       "      <td>0</td>\n",
       "      <td>ff25650a-a9e1-4c02-a8e8-0c85b9ee1dc9</td>\n",
       "      <td>127325963209728431078</td>\n",
       "      <td>B ****or</td>\n",
       "      <td>Used this app for years. Was a great way to es...</td>\n",
       "      <td>1</td>\n",
       "      <td>0</td>\n",
       "      <td>216.1.0.21.137</td>\n",
       "      <td>2022-01-05 23:37:15</td>\n",
       "    </tr>\n",
       "    <tr>\n",
       "      <th>1</th>\n",
       "      <td>1</td>\n",
       "      <td>7e1840fe-4307-4c97-974c-437ec6c64e60</td>\n",
       "      <td>148177168797697591284</td>\n",
       "      <td>Ù",
       "Ø³*******ÙÙ</td>\n",
       "      <td>khayemalo sag bgad</td>\n",
       "      <td>5</td>\n",
       "      <td>0</td>\n",
       "      <td>155.0.0.37.107</td>\n",
       "      <td>2022-01-05 23:39:29</td>\n",
       "    </tr>\n",
       "    <tr>\n",
       "      <th>2</th>\n",
       "      <td>2</td>\n",
       "      <td>3c8ba6fc-3009-4b1c-9a24-9ea635799a9a</td>\n",
       "      <td>162050472706594017332</td>\n",
       "      <td>Li********on</td>\n",
       "      <td>Lovely</td>\n",
       "      <td>5</td>\n",
       "      <td>0</td>\n",
       "      <td>NaN</td>\n",
       "      <td>2022-01-05 23:39:32</td>\n",
       "    </tr>\n",
       "    <tr>\n",
       "      <th>3</th>\n",
       "      <td>3</td>\n",
       "      <td>47c54668-dbac-4f8f-a98a-3ede00a103ea</td>\n",
       "      <td>264067006274581079256</td>\n",
       "      <td>Fa******Zx</td>\n",
       "      <td>best</td>\n",
       "      <td>5</td>\n",
       "      <td>0</td>\n",
       "      <td>NaN</td>\n",
       "      <td>2022-01-05 23:39:50</td>\n",
       "    </tr>\n",
       "    <tr>\n",
       "      <th>4</th>\n",
       "      <td>4</td>\n",
       "      <td>464a6a51-9a9f-44b0-80b5-eeea24adcd57</td>\n",
       "      <td>224172402296862948810</td>\n",
       "      <td>fr***************67</td>\n",
       "      <td>Super</td>\n",
       "      <td>5</td>\n",
       "      <td>0</td>\n",
       "      <td>216.0.0.20.137</td>\n",
       "      <td>2022-01-05 23:40:08</td>\n",
       "    </tr>\n",
       "  </tbody>\n",
       "</table>\n",
       "</div>\n",
       "    <div class=\"colab-df-buttons\">\n",
       "\n",
       "  <div class=\"colab-df-container\">\n",
       "    <button class=\"colab-df-convert\" onclick=\"convertToInteractive('df-7ee72cf3-748c-49ba-861b-db359a67332b')\"\n",
       "            title=\"Convert this dataframe to an interactive table.\"\n",
       "            style=\"display:none;\">\n",
       "\n",
       "  <svg xmlns=\"http://www.w3.org/2000/svg\" height=\"24px\" viewBox=\"0 -960 960 960\">\n",
       "    <path d=\"M120-120v-720h720v720H120Zm60-500h600v-160H180v160Zm220 220h160v-160H400v160Zm0 220h160v-160H400v160ZM180-400h160v-160H180v160Zm440 0h160v-160H620v160ZM180-180h160v-160H180v160Zm440 0h160v-160H620v160Z\"/>\n",
       "  </svg>\n",
       "    </button>\n",
       "\n",
       "  <style>\n",
       "    .colab-df-container {\n",
       "      display:flex;\n",
       "      gap: 12px;\n",
       "    }\n",
       "\n",
       "    .colab-df-convert {\n",
       "      background-color: #E8F0FE;\n",
       "      border: none;\n",
       "      border-radius: 50%;\n",
       "      cursor: pointer;\n",
       "      display: none;\n",
       "      fill: #1967D2;\n",
       "      height: 32px;\n",
       "      padding: 0 0 0 0;\n",
       "      width: 32px;\n",
       "    }\n",
       "\n",
       "    .colab-df-convert:hover {\n",
       "      background-color: #E2EBFA;\n",
       "      box-shadow: 0px 1px 2px rgba(60, 64, 67, 0.3), 0px 1px 3px 1px rgba(60, 64, 67, 0.15);\n",
       "      fill: #174EA6;\n",
       "    }\n",
       "\n",
       "    .colab-df-buttons div {\n",
       "      margin-bottom: 4px;\n",
       "    }\n",
       "\n",
       "    [theme=dark] .colab-df-convert {\n",
       "      background-color: #3B4455;\n",
       "      fill: #D2E3FC;\n",
       "    }\n",
       "\n",
       "    [theme=dark] .colab-df-convert:hover {\n",
       "      background-color: #434B5C;\n",
       "      box-shadow: 0px 1px 3px 1px rgba(0, 0, 0, 0.15);\n",
       "      filter: drop-shadow(0px 1px 2px rgba(0, 0, 0, 0.3));\n",
       "      fill: #FFFFFF;\n",
       "    }\n",
       "  </style>\n",
       "\n",
       "    <script>\n",
       "      const buttonEl =\n",
       "        document.querySelector('#df-7ee72cf3-748c-49ba-861b-db359a67332b button.colab-df-convert');\n",
       "      buttonEl.style.display =\n",
       "        google.colab.kernel.accessAllowed ? 'block' : 'none';\n",
       "\n",
       "      async function convertToInteractive(key) {\n",
       "        const element = document.querySelector('#df-7ee72cf3-748c-49ba-861b-db359a67332b');\n",
       "        const dataTable =\n",
       "          await google.colab.kernel.invokeFunction('convertToInteractive',\n",
       "                                                    [key], {});\n",
       "        if (!dataTable) return;\n",
       "\n",
       "        const docLinkHtml = 'Like what you see? Visit the ' +\n",
       "          '<a target=\"_blank\" href=https://colab.research.google.com/notebooks/data_table.ipynb>data table notebook</a>'\n",
       "          + ' to learn more about interactive tables.';\n",
       "        element.innerHTML = '';\n",
       "        dataTable['output_type'] = 'display_data';\n",
       "        await google.colab.output.renderOutput(dataTable, element);\n",
       "        const docLink = document.createElement('div');\n",
       "        docLink.innerHTML = docLinkHtml;\n",
       "        element.appendChild(docLink);\n",
       "      }\n",
       "    </script>\n",
       "  </div>\n",
       "\n",
       "\n",
       "    <div id=\"df-35589865-3cdd-4dcd-af69-d3f1c6f4c409\">\n",
       "      <button class=\"colab-df-quickchart\" onclick=\"quickchart('df-35589865-3cdd-4dcd-af69-d3f1c6f4c409')\"\n",
       "                title=\"Suggest charts\"\n",
       "                style=\"display:none;\">\n",
       "\n",
       "<svg xmlns=\"http://www.w3.org/2000/svg\" height=\"24px\"viewBox=\"0 0 24 24\"\n",
       "     width=\"24px\">\n",
       "    <g>\n",
       "        <path d=\"M19 3H5c-1.1 0-2 .9-2 2v14c0 1.1.9 2 2 2h14c1.1 0 2-.9 2-2V5c0-1.1-.9-2-2-2zM9 17H7v-7h2v7zm4 0h-2V7h2v10zm4 0h-2v-4h2v4z\"/>\n",
       "    </g>\n",
       "</svg>\n",
       "      </button>\n",
       "\n",
       "<style>\n",
       "  .colab-df-quickchart {\n",
       "      --bg-color: #E8F0FE;\n",
       "      --fill-color: #1967D2;\n",
       "      --hover-bg-color: #E2EBFA;\n",
       "      --hover-fill-color: #174EA6;\n",
       "      --disabled-fill-color: #AAA;\n",
       "      --disabled-bg-color: #DDD;\n",
       "  }\n",
       "\n",
       "  [theme=dark] .colab-df-quickchart {\n",
       "      --bg-color: #3B4455;\n",
       "      --fill-color: #D2E3FC;\n",
       "      --hover-bg-color: #434B5C;\n",
       "      --hover-fill-color: #FFFFFF;\n",
       "      --disabled-bg-color: #3B4455;\n",
       "      --disabled-fill-color: #666;\n",
       "  }\n",
       "\n",
       "  .colab-df-quickchart {\n",
       "    background-color: var(--bg-color);\n",
       "    border: none;\n",
       "    border-radius: 50%;\n",
       "    cursor: pointer;\n",
       "    display: none;\n",
       "    fill: var(--fill-color);\n",
       "    height: 32px;\n",
       "    padding: 0;\n",
       "    width: 32px;\n",
       "  }\n",
       "\n",
       "  .colab-df-quickchart:hover {\n",
       "    background-color: var(--hover-bg-color);\n",
       "    box-shadow: 0 1px 2px rgba(60, 64, 67, 0.3), 0 1px 3px 1px rgba(60, 64, 67, 0.15);\n",
       "    fill: var(--button-hover-fill-color);\n",
       "  }\n",
       "\n",
       "  .colab-df-quickchart-complete:disabled,\n",
       "  .colab-df-quickchart-complete:disabled:hover {\n",
       "    background-color: var(--disabled-bg-color);\n",
       "    fill: var(--disabled-fill-color);\n",
       "    box-shadow: none;\n",
       "  }\n",
       "\n",
       "  .colab-df-spinner {\n",
       "    border: 2px solid var(--fill-color);\n",
       "    border-color: transparent;\n",
       "    border-bottom-color: var(--fill-color);\n",
       "    animation:\n",
       "      spin 1s steps(1) infinite;\n",
       "  }\n",
       "\n",
       "  @keyframes spin {\n",
       "    0% {\n",
       "      border-color: transparent;\n",
       "      border-bottom-color: var(--fill-color);\n",
       "      border-left-color: var(--fill-color);\n",
       "    }\n",
       "    20% {\n",
       "      border-color: transparent;\n",
       "      border-left-color: var(--fill-color);\n",
       "      border-top-color: var(--fill-color);\n",
       "    }\n",
       "    30% {\n",
       "      border-color: transparent;\n",
       "      border-left-color: var(--fill-color);\n",
       "      border-top-color: var(--fill-color);\n",
       "      border-right-color: var(--fill-color);\n",
       "    }\n",
       "    40% {\n",
       "      border-color: transparent;\n",
       "      border-right-color: var(--fill-color);\n",
       "      border-top-color: var(--fill-color);\n",
       "    }\n",
       "    60% {\n",
       "      border-color: transparent;\n",
       "      border-right-color: var(--fill-color);\n",
       "    }\n",
       "    80% {\n",
       "      border-color: transparent;\n",
       "      border-right-color: var(--fill-color);\n",
       "      border-bottom-color: var(--fill-color);\n",
       "    }\n",
       "    90% {\n",
       "      border-color: transparent;\n",
       "      border-bottom-color: var(--fill-color);\n",
       "    }\n",
       "  }\n",
       "</style>\n",
       "\n",
       "      <script>\n",
       "        async function quickchart(key) {\n",
       "          const quickchartButtonEl =\n",
       "            document.querySelector('#' + key + ' button');\n",
       "          quickchartButtonEl.disabled = true;  // To prevent multiple clicks.\n",
       "          quickchartButtonEl.classList.add('colab-df-spinner');\n",
       "          try {\n",
       "            const charts = await google.colab.kernel.invokeFunction(\n",
       "                'suggestCharts', [key], {});\n",
       "          } catch (error) {\n",
       "            console.error('Error during call to suggestCharts:', error);\n",
       "          }\n",
       "          quickchartButtonEl.classList.remove('colab-df-spinner');\n",
       "          quickchartButtonEl.classList.add('colab-df-quickchart-complete');\n",
       "        }\n",
       "        (() => {\n",
       "          let quickchartButtonEl =\n",
       "            document.querySelector('#df-35589865-3cdd-4dcd-af69-d3f1c6f4c409 button');\n",
       "          quickchartButtonEl.style.display =\n",
       "            google.colab.kernel.accessAllowed ? 'block' : 'none';\n",
       "        })();\n",
       "      </script>\n",
       "    </div>\n",
       "\n",
       "    </div>\n",
       "  </div>\n"
      ],
      "text/plain": [
       "   Unnamed: 0                             review_id       pseudo_author_id  \\\n",
       "0           0  ff25650a-a9e1-4c02-a8e8-0c85b9ee1dc9  127325963209728431078   \n",
       "1           1  7e1840fe-4307-4c97-974c-437ec6c64e60  148177168797697591284   \n",
       "2           2  3c8ba6fc-3009-4b1c-9a24-9ea635799a9a  162050472706594017332   \n",
       "3           3  47c54668-dbac-4f8f-a98a-3ede00a103ea  264067006274581079256   \n",
       "4           4  464a6a51-9a9f-44b0-80b5-eeea24adcd57  224172402296862948810   \n",
       "\n",
       "           author_name                                        review_text  \\\n",
       "0             B ****or  Used this app for years. Was a great way to es...   \n",
       "1      Ù\n",
       "Ø³*******ÙÙ                                 khayemalo sag bgad   \n",
       "2         Li********on                                             Lovely   \n",
       "3           Fa******Zx                                               best   \n",
       "4  fr***************67                                              Super   \n",
       "\n",
       "   review_rating  review_likes author_app_version     review_timestamp  \n",
       "0              1             0     216.1.0.21.137  2022-01-05 23:37:15  \n",
       "1              5             0     155.0.0.37.107  2022-01-05 23:39:29  \n",
       "2              5             0                NaN  2022-01-05 23:39:32  \n",
       "3              5             0                NaN  2022-01-05 23:39:50  \n",
       "4              5             0     216.0.0.20.137  2022-01-05 23:40:08  "
      ]
     },
     "execution_count": 10,
     "metadata": {},
     "output_type": "execute_result"
    }
   ],
   "source": [
    "df.head()"
   ]
  },
  {
   "cell_type": "code",
   "execution_count": null,
   "metadata": {
    "colab": {
     "base_uri": "https://localhost:8080/",
     "height": 366
    },
    "id": "wCClKhZzkkd9",
    "outputId": "c1926f81-e4b2-4629-9bdd-d85459b93406"
   },
   "outputs": [
    {
     "data": {
      "text/html": [
       "<div>\n",
       "<style scoped>\n",
       "    .dataframe tbody tr th:only-of-type {\n",
       "        vertical-align: middle;\n",
       "    }\n",
       "\n",
       "    .dataframe tbody tr th {\n",
       "        vertical-align: top;\n",
       "    }\n",
       "\n",
       "    .dataframe thead th {\n",
       "        text-align: right;\n",
       "    }\n",
       "</style>\n",
       "<table border=\"1\" class=\"dataframe\">\n",
       "  <thead>\n",
       "    <tr style=\"text-align: right;\">\n",
       "      <th></th>\n",
       "      <th>0</th>\n",
       "    </tr>\n",
       "  </thead>\n",
       "  <tbody>\n",
       "    <tr>\n",
       "      <th>Unnamed: 0</th>\n",
       "      <td>0</td>\n",
       "    </tr>\n",
       "    <tr>\n",
       "      <th>review_id</th>\n",
       "      <td>0</td>\n",
       "    </tr>\n",
       "    <tr>\n",
       "      <th>pseudo_author_id</th>\n",
       "      <td>0</td>\n",
       "    </tr>\n",
       "    <tr>\n",
       "      <th>author_name</th>\n",
       "      <td>0</td>\n",
       "    </tr>\n",
       "    <tr>\n",
       "      <th>review_text</th>\n",
       "      <td>128</td>\n",
       "    </tr>\n",
       "    <tr>\n",
       "      <th>review_rating</th>\n",
       "      <td>0</td>\n",
       "    </tr>\n",
       "    <tr>\n",
       "      <th>review_likes</th>\n",
       "      <td>0</td>\n",
       "    </tr>\n",
       "    <tr>\n",
       "      <th>author_app_version</th>\n",
       "      <td>765552</td>\n",
       "    </tr>\n",
       "    <tr>\n",
       "      <th>review_timestamp</th>\n",
       "      <td>0</td>\n",
       "    </tr>\n",
       "  </tbody>\n",
       "</table>\n",
       "</div><br><label><b>dtype:</b> int64</label>"
      ],
      "text/plain": [
       "Unnamed: 0                 0\n",
       "review_id                  0\n",
       "pseudo_author_id           0\n",
       "author_name                0\n",
       "review_text              128\n",
       "review_rating              0\n",
       "review_likes               0\n",
       "author_app_version    765552\n",
       "review_timestamp           0\n",
       "dtype: int64"
      ]
     },
     "execution_count": 11,
     "metadata": {},
     "output_type": "execute_result"
    }
   ],
   "source": [
    "df.isnull().sum()"
   ]
  },
  {
   "cell_type": "code",
   "execution_count": null,
   "metadata": {
    "id": "f0nK2GYMqbnm"
   },
   "outputs": [],
   "source": [
    "df.dropna(subset=['review_text'], inplace=True)  # Drop missing reviews\n",
    "\n",
    "df['author_app_version'] = df['author_app_version'].fillna('unknown') # Fill Nan Values"
   ]
  },
  {
   "cell_type": "code",
   "execution_count": null,
   "metadata": {
    "colab": {
     "base_uri": "https://localhost:8080/",
     "height": 366
    },
    "id": "zs7SZmuzUGl7",
    "outputId": "a1070bfb-d208-4d78-9164-829fe783c7cf"
   },
   "outputs": [
    {
     "data": {
      "text/html": [
       "<div>\n",
       "<style scoped>\n",
       "    .dataframe tbody tr th:only-of-type {\n",
       "        vertical-align: middle;\n",
       "    }\n",
       "\n",
       "    .dataframe tbody tr th {\n",
       "        vertical-align: top;\n",
       "    }\n",
       "\n",
       "    .dataframe thead th {\n",
       "        text-align: right;\n",
       "    }\n",
       "</style>\n",
       "<table border=\"1\" class=\"dataframe\">\n",
       "  <thead>\n",
       "    <tr style=\"text-align: right;\">\n",
       "      <th></th>\n",
       "      <th>0</th>\n",
       "    </tr>\n",
       "  </thead>\n",
       "  <tbody>\n",
       "    <tr>\n",
       "      <th>Unnamed: 0</th>\n",
       "      <td>0</td>\n",
       "    </tr>\n",
       "    <tr>\n",
       "      <th>review_id</th>\n",
       "      <td>0</td>\n",
       "    </tr>\n",
       "    <tr>\n",
       "      <th>pseudo_author_id</th>\n",
       "      <td>0</td>\n",
       "    </tr>\n",
       "    <tr>\n",
       "      <th>author_name</th>\n",
       "      <td>0</td>\n",
       "    </tr>\n",
       "    <tr>\n",
       "      <th>review_text</th>\n",
       "      <td>0</td>\n",
       "    </tr>\n",
       "    <tr>\n",
       "      <th>review_rating</th>\n",
       "      <td>0</td>\n",
       "    </tr>\n",
       "    <tr>\n",
       "      <th>review_likes</th>\n",
       "      <td>0</td>\n",
       "    </tr>\n",
       "    <tr>\n",
       "      <th>author_app_version</th>\n",
       "      <td>0</td>\n",
       "    </tr>\n",
       "    <tr>\n",
       "      <th>review_timestamp</th>\n",
       "      <td>0</td>\n",
       "    </tr>\n",
       "  </tbody>\n",
       "</table>\n",
       "</div><br><label><b>dtype:</b> int64</label>"
      ],
      "text/plain": [
       "Unnamed: 0            0\n",
       "review_id             0\n",
       "pseudo_author_id      0\n",
       "author_name           0\n",
       "review_text           0\n",
       "review_rating         0\n",
       "review_likes          0\n",
       "author_app_version    0\n",
       "review_timestamp      0\n",
       "dtype: int64"
      ]
     },
     "execution_count": 13,
     "metadata": {},
     "output_type": "execute_result"
    }
   ],
   "source": [
    "df.isnull().sum()\n"
   ]
  },
  {
   "cell_type": "code",
   "execution_count": null,
   "metadata": {
    "colab": {
     "base_uri": "https://localhost:8080/"
    },
    "id": "egX-F9EZULDy",
    "outputId": "27bb0f81-d153-4901-dce2-3d30cfc6d328"
   },
   "outputs": [
    {
     "data": {
      "text/plain": [
       "(3079811, 9)"
      ]
     },
     "execution_count": 14,
     "metadata": {},
     "output_type": "execute_result"
    }
   ],
   "source": [
    "df.shape"
   ]
  },
  {
   "cell_type": "code",
   "execution_count": null,
   "metadata": {
    "colab": {
     "base_uri": "https://localhost:8080/",
     "height": 521
    },
    "id": "3kuq67dpoxNQ",
    "outputId": "ba17b63b-d90a-4cdd-e27e-e0c107b27fee"
   },
   "outputs": [
    {
     "data": {
      "application/vnd.google.colaboratory.intrinsic+json": {
       "type": "dataframe",
       "variable_name": "df"
      },
      "text/html": [
       "\n",
       "  <div id=\"df-f7972327-5af8-4c0d-a5b5-cc2c5487edbb\" class=\"colab-df-container\">\n",
       "    <div>\n",
       "<style scoped>\n",
       "    .dataframe tbody tr th:only-of-type {\n",
       "        vertical-align: middle;\n",
       "    }\n",
       "\n",
       "    .dataframe tbody tr th {\n",
       "        vertical-align: top;\n",
       "    }\n",
       "\n",
       "    .dataframe thead th {\n",
       "        text-align: right;\n",
       "    }\n",
       "</style>\n",
       "<table border=\"1\" class=\"dataframe\">\n",
       "  <thead>\n",
       "    <tr style=\"text-align: right;\">\n",
       "      <th></th>\n",
       "      <th>Unnamed: 0</th>\n",
       "      <th>review_id</th>\n",
       "      <th>pseudo_author_id</th>\n",
       "      <th>author_name</th>\n",
       "      <th>review_text</th>\n",
       "      <th>review_rating</th>\n",
       "      <th>review_likes</th>\n",
       "      <th>author_app_version</th>\n",
       "      <th>review_timestamp</th>\n",
       "    </tr>\n",
       "  </thead>\n",
       "  <tbody>\n",
       "    <tr>\n",
       "      <th>0</th>\n",
       "      <td>0</td>\n",
       "      <td>ff25650a-a9e1-4c02-a8e8-0c85b9ee1dc9</td>\n",
       "      <td>127325963209728431078</td>\n",
       "      <td>B ****or</td>\n",
       "      <td>Used this app for years. Was a great way to es...</td>\n",
       "      <td>1</td>\n",
       "      <td>0</td>\n",
       "      <td>216.1.0.21.137</td>\n",
       "      <td>2022-01-05 23:37:15</td>\n",
       "    </tr>\n",
       "    <tr>\n",
       "      <th>1</th>\n",
       "      <td>1</td>\n",
       "      <td>7e1840fe-4307-4c97-974c-437ec6c64e60</td>\n",
       "      <td>148177168797697591284</td>\n",
       "      <td>Ù",
       "Ø³*******ÙÙ</td>\n",
       "      <td>khayemalo sag bgad</td>\n",
       "      <td>5</td>\n",
       "      <td>0</td>\n",
       "      <td>155.0.0.37.107</td>\n",
       "      <td>2022-01-05 23:39:29</td>\n",
       "    </tr>\n",
       "    <tr>\n",
       "      <th>2</th>\n",
       "      <td>2</td>\n",
       "      <td>3c8ba6fc-3009-4b1c-9a24-9ea635799a9a</td>\n",
       "      <td>162050472706594017332</td>\n",
       "      <td>Li********on</td>\n",
       "      <td>Lovely</td>\n",
       "      <td>5</td>\n",
       "      <td>0</td>\n",
       "      <td>unknown</td>\n",
       "      <td>2022-01-05 23:39:32</td>\n",
       "    </tr>\n",
       "    <tr>\n",
       "      <th>3</th>\n",
       "      <td>3</td>\n",
       "      <td>47c54668-dbac-4f8f-a98a-3ede00a103ea</td>\n",
       "      <td>264067006274581079256</td>\n",
       "      <td>Fa******Zx</td>\n",
       "      <td>best</td>\n",
       "      <td>5</td>\n",
       "      <td>0</td>\n",
       "      <td>unknown</td>\n",
       "      <td>2022-01-05 23:39:50</td>\n",
       "    </tr>\n",
       "    <tr>\n",
       "      <th>4</th>\n",
       "      <td>4</td>\n",
       "      <td>464a6a51-9a9f-44b0-80b5-eeea24adcd57</td>\n",
       "      <td>224172402296862948810</td>\n",
       "      <td>fr***************67</td>\n",
       "      <td>Super</td>\n",
       "      <td>5</td>\n",
       "      <td>0</td>\n",
       "      <td>216.0.0.20.137</td>\n",
       "      <td>2022-01-05 23:40:08</td>\n",
       "    </tr>\n",
       "  </tbody>\n",
       "</table>\n",
       "</div>\n",
       "    <div class=\"colab-df-buttons\">\n",
       "\n",
       "  <div class=\"colab-df-container\">\n",
       "    <button class=\"colab-df-convert\" onclick=\"convertToInteractive('df-f7972327-5af8-4c0d-a5b5-cc2c5487edbb')\"\n",
       "            title=\"Convert this dataframe to an interactive table.\"\n",
       "            style=\"display:none;\">\n",
       "\n",
       "  <svg xmlns=\"http://www.w3.org/2000/svg\" height=\"24px\" viewBox=\"0 -960 960 960\">\n",
       "    <path d=\"M120-120v-720h720v720H120Zm60-500h600v-160H180v160Zm220 220h160v-160H400v160Zm0 220h160v-160H400v160ZM180-400h160v-160H180v160Zm440 0h160v-160H620v160ZM180-180h160v-160H180v160Zm440 0h160v-160H620v160Z\"/>\n",
       "  </svg>\n",
       "    </button>\n",
       "\n",
       "  <style>\n",
       "    .colab-df-container {\n",
       "      display:flex;\n",
       "      gap: 12px;\n",
       "    }\n",
       "\n",
       "    .colab-df-convert {\n",
       "      background-color: #E8F0FE;\n",
       "      border: none;\n",
       "      border-radius: 50%;\n",
       "      cursor: pointer;\n",
       "      display: none;\n",
       "      fill: #1967D2;\n",
       "      height: 32px;\n",
       "      padding: 0 0 0 0;\n",
       "      width: 32px;\n",
       "    }\n",
       "\n",
       "    .colab-df-convert:hover {\n",
       "      background-color: #E2EBFA;\n",
       "      box-shadow: 0px 1px 2px rgba(60, 64, 67, 0.3), 0px 1px 3px 1px rgba(60, 64, 67, 0.15);\n",
       "      fill: #174EA6;\n",
       "    }\n",
       "\n",
       "    .colab-df-buttons div {\n",
       "      margin-bottom: 4px;\n",
       "    }\n",
       "\n",
       "    [theme=dark] .colab-df-convert {\n",
       "      background-color: #3B4455;\n",
       "      fill: #D2E3FC;\n",
       "    }\n",
       "\n",
       "    [theme=dark] .colab-df-convert:hover {\n",
       "      background-color: #434B5C;\n",
       "      box-shadow: 0px 1px 3px 1px rgba(0, 0, 0, 0.15);\n",
       "      filter: drop-shadow(0px 1px 2px rgba(0, 0, 0, 0.3));\n",
       "      fill: #FFFFFF;\n",
       "    }\n",
       "  </style>\n",
       "\n",
       "    <script>\n",
       "      const buttonEl =\n",
       "        document.querySelector('#df-f7972327-5af8-4c0d-a5b5-cc2c5487edbb button.colab-df-convert');\n",
       "      buttonEl.style.display =\n",
       "        google.colab.kernel.accessAllowed ? 'block' : 'none';\n",
       "\n",
       "      async function convertToInteractive(key) {\n",
       "        const element = document.querySelector('#df-f7972327-5af8-4c0d-a5b5-cc2c5487edbb');\n",
       "        const dataTable =\n",
       "          await google.colab.kernel.invokeFunction('convertToInteractive',\n",
       "                                                    [key], {});\n",
       "        if (!dataTable) return;\n",
       "\n",
       "        const docLinkHtml = 'Like what you see? Visit the ' +\n",
       "          '<a target=\"_blank\" href=https://colab.research.google.com/notebooks/data_table.ipynb>data table notebook</a>'\n",
       "          + ' to learn more about interactive tables.';\n",
       "        element.innerHTML = '';\n",
       "        dataTable['output_type'] = 'display_data';\n",
       "        await google.colab.output.renderOutput(dataTable, element);\n",
       "        const docLink = document.createElement('div');\n",
       "        docLink.innerHTML = docLinkHtml;\n",
       "        element.appendChild(docLink);\n",
       "      }\n",
       "    </script>\n",
       "  </div>\n",
       "\n",
       "\n",
       "    <div id=\"df-776e44c1-eebf-4419-aa7d-f0bc10564e4b\">\n",
       "      <button class=\"colab-df-quickchart\" onclick=\"quickchart('df-776e44c1-eebf-4419-aa7d-f0bc10564e4b')\"\n",
       "                title=\"Suggest charts\"\n",
       "                style=\"display:none;\">\n",
       "\n",
       "<svg xmlns=\"http://www.w3.org/2000/svg\" height=\"24px\"viewBox=\"0 0 24 24\"\n",
       "     width=\"24px\">\n",
       "    <g>\n",
       "        <path d=\"M19 3H5c-1.1 0-2 .9-2 2v14c0 1.1.9 2 2 2h14c1.1 0 2-.9 2-2V5c0-1.1-.9-2-2-2zM9 17H7v-7h2v7zm4 0h-2V7h2v10zm4 0h-2v-4h2v4z\"/>\n",
       "    </g>\n",
       "</svg>\n",
       "      </button>\n",
       "\n",
       "<style>\n",
       "  .colab-df-quickchart {\n",
       "      --bg-color: #E8F0FE;\n",
       "      --fill-color: #1967D2;\n",
       "      --hover-bg-color: #E2EBFA;\n",
       "      --hover-fill-color: #174EA6;\n",
       "      --disabled-fill-color: #AAA;\n",
       "      --disabled-bg-color: #DDD;\n",
       "  }\n",
       "\n",
       "  [theme=dark] .colab-df-quickchart {\n",
       "      --bg-color: #3B4455;\n",
       "      --fill-color: #D2E3FC;\n",
       "      --hover-bg-color: #434B5C;\n",
       "      --hover-fill-color: #FFFFFF;\n",
       "      --disabled-bg-color: #3B4455;\n",
       "      --disabled-fill-color: #666;\n",
       "  }\n",
       "\n",
       "  .colab-df-quickchart {\n",
       "    background-color: var(--bg-color);\n",
       "    border: none;\n",
       "    border-radius: 50%;\n",
       "    cursor: pointer;\n",
       "    display: none;\n",
       "    fill: var(--fill-color);\n",
       "    height: 32px;\n",
       "    padding: 0;\n",
       "    width: 32px;\n",
       "  }\n",
       "\n",
       "  .colab-df-quickchart:hover {\n",
       "    background-color: var(--hover-bg-color);\n",
       "    box-shadow: 0 1px 2px rgba(60, 64, 67, 0.3), 0 1px 3px 1px rgba(60, 64, 67, 0.15);\n",
       "    fill: var(--button-hover-fill-color);\n",
       "  }\n",
       "\n",
       "  .colab-df-quickchart-complete:disabled,\n",
       "  .colab-df-quickchart-complete:disabled:hover {\n",
       "    background-color: var(--disabled-bg-color);\n",
       "    fill: var(--disabled-fill-color);\n",
       "    box-shadow: none;\n",
       "  }\n",
       "\n",
       "  .colab-df-spinner {\n",
       "    border: 2px solid var(--fill-color);\n",
       "    border-color: transparent;\n",
       "    border-bottom-color: var(--fill-color);\n",
       "    animation:\n",
       "      spin 1s steps(1) infinite;\n",
       "  }\n",
       "\n",
       "  @keyframes spin {\n",
       "    0% {\n",
       "      border-color: transparent;\n",
       "      border-bottom-color: var(--fill-color);\n",
       "      border-left-color: var(--fill-color);\n",
       "    }\n",
       "    20% {\n",
       "      border-color: transparent;\n",
       "      border-left-color: var(--fill-color);\n",
       "      border-top-color: var(--fill-color);\n",
       "    }\n",
       "    30% {\n",
       "      border-color: transparent;\n",
       "      border-left-color: var(--fill-color);\n",
       "      border-top-color: var(--fill-color);\n",
       "      border-right-color: var(--fill-color);\n",
       "    }\n",
       "    40% {\n",
       "      border-color: transparent;\n",
       "      border-right-color: var(--fill-color);\n",
       "      border-top-color: var(--fill-color);\n",
       "    }\n",
       "    60% {\n",
       "      border-color: transparent;\n",
       "      border-right-color: var(--fill-color);\n",
       "    }\n",
       "    80% {\n",
       "      border-color: transparent;\n",
       "      border-right-color: var(--fill-color);\n",
       "      border-bottom-color: var(--fill-color);\n",
       "    }\n",
       "    90% {\n",
       "      border-color: transparent;\n",
       "      border-bottom-color: var(--fill-color);\n",
       "    }\n",
       "  }\n",
       "</style>\n",
       "\n",
       "      <script>\n",
       "        async function quickchart(key) {\n",
       "          const quickchartButtonEl =\n",
       "            document.querySelector('#' + key + ' button');\n",
       "          quickchartButtonEl.disabled = true;  // To prevent multiple clicks.\n",
       "          quickchartButtonEl.classList.add('colab-df-spinner');\n",
       "          try {\n",
       "            const charts = await google.colab.kernel.invokeFunction(\n",
       "                'suggestCharts', [key], {});\n",
       "          } catch (error) {\n",
       "            console.error('Error during call to suggestCharts:', error);\n",
       "          }\n",
       "          quickchartButtonEl.classList.remove('colab-df-spinner');\n",
       "          quickchartButtonEl.classList.add('colab-df-quickchart-complete');\n",
       "        }\n",
       "        (() => {\n",
       "          let quickchartButtonEl =\n",
       "            document.querySelector('#df-776e44c1-eebf-4419-aa7d-f0bc10564e4b button');\n",
       "          quickchartButtonEl.style.display =\n",
       "            google.colab.kernel.accessAllowed ? 'block' : 'none';\n",
       "        })();\n",
       "      </script>\n",
       "    </div>\n",
       "\n",
       "    </div>\n",
       "  </div>\n"
      ],
      "text/plain": [
       "   Unnamed: 0                             review_id       pseudo_author_id  \\\n",
       "0           0  ff25650a-a9e1-4c02-a8e8-0c85b9ee1dc9  127325963209728431078   \n",
       "1           1  7e1840fe-4307-4c97-974c-437ec6c64e60  148177168797697591284   \n",
       "2           2  3c8ba6fc-3009-4b1c-9a24-9ea635799a9a  162050472706594017332   \n",
       "3           3  47c54668-dbac-4f8f-a98a-3ede00a103ea  264067006274581079256   \n",
       "4           4  464a6a51-9a9f-44b0-80b5-eeea24adcd57  224172402296862948810   \n",
       "\n",
       "           author_name                                        review_text  \\\n",
       "0             B ****or  Used this app for years. Was a great way to es...   \n",
       "1      Ù\n",
       "Ø³*******ÙÙ                                 khayemalo sag bgad   \n",
       "2         Li********on                                             Lovely   \n",
       "3           Fa******Zx                                               best   \n",
       "4  fr***************67                                              Super   \n",
       "\n",
       "   review_rating  review_likes author_app_version     review_timestamp  \n",
       "0              1             0     216.1.0.21.137  2022-01-05 23:37:15  \n",
       "1              5             0     155.0.0.37.107  2022-01-05 23:39:29  \n",
       "2              5             0            unknown  2022-01-05 23:39:32  \n",
       "3              5             0            unknown  2022-01-05 23:39:50  \n",
       "4              5             0     216.0.0.20.137  2022-01-05 23:40:08  "
      ]
     },
     "execution_count": 15,
     "metadata": {},
     "output_type": "execute_result"
    }
   ],
   "source": [
    "df.head()"
   ]
  },
  {
   "cell_type": "code",
   "execution_count": null,
   "metadata": {
    "colab": {
     "base_uri": "https://localhost:8080/",
     "height": 272
    },
    "id": "buMOKueYUs9d",
    "outputId": "f19dc024-7e78-4fe6-f689-404dcfbd139c"
   },
   "outputs": [
    {
     "data": {
      "text/html": [
       "<div>\n",
       "<style scoped>\n",
       "    .dataframe tbody tr th:only-of-type {\n",
       "        vertical-align: middle;\n",
       "    }\n",
       "\n",
       "    .dataframe tbody tr th {\n",
       "        vertical-align: top;\n",
       "    }\n",
       "\n",
       "    .dataframe thead th {\n",
       "        text-align: right;\n",
       "    }\n",
       "</style>\n",
       "<table border=\"1\" class=\"dataframe\">\n",
       "  <thead>\n",
       "    <tr style=\"text-align: right;\">\n",
       "      <th></th>\n",
       "      <th>count</th>\n",
       "    </tr>\n",
       "    <tr>\n",
       "      <th>review_rating</th>\n",
       "      <th></th>\n",
       "    </tr>\n",
       "  </thead>\n",
       "  <tbody>\n",
       "    <tr>\n",
       "      <th>5</th>\n",
       "      <td>1963214</td>\n",
       "    </tr>\n",
       "    <tr>\n",
       "      <th>1</th>\n",
       "      <td>589844</td>\n",
       "    </tr>\n",
       "    <tr>\n",
       "      <th>4</th>\n",
       "      <td>246602</td>\n",
       "    </tr>\n",
       "    <tr>\n",
       "      <th>3</th>\n",
       "      <td>155200</td>\n",
       "    </tr>\n",
       "    <tr>\n",
       "      <th>2</th>\n",
       "      <td>124951</td>\n",
       "    </tr>\n",
       "  </tbody>\n",
       "</table>\n",
       "</div><br><label><b>dtype:</b> int64</label>"
      ],
      "text/plain": [
       "review_rating\n",
       "5    1963214\n",
       "1     589844\n",
       "4     246602\n",
       "3     155200\n",
       "2     124951\n",
       "Name: count, dtype: int64"
      ]
     },
     "execution_count": 16,
     "metadata": {},
     "output_type": "execute_result"
    }
   ],
   "source": [
    "df['review_rating'].value_counts()"
   ]
  },
  {
   "cell_type": "code",
   "execution_count": null,
   "metadata": {
    "id": "6jv81EDf7BWq"
   },
   "outputs": [],
   "source": [
    "#labelling the ratings\n",
    "def label_sentiment(rating):\n",
    "    if rating >= 4:\n",
    "        return 'positive review'\n",
    "    elif rating == 3:\n",
    "        return 'neutral review'\n",
    "    else:\n",
    "        return 'negative review'"
   ]
  },
  {
   "cell_type": "code",
   "execution_count": null,
   "metadata": {
    "colab": {
     "base_uri": "https://localhost:8080/"
    },
    "id": "mNT8lUfsxhtx",
    "outputId": "3ecfdab6-1c2b-4a18-efa2-977fcd297382"
   },
   "outputs": [
    {
     "name": "stdout",
     "output_type": "stream",
     "text": [
      "sentiment\n",
      "positive review    2209816\n",
      "negative review     714795\n",
      "neutral review      155200\n",
      "Name: count, dtype: int64\n"
     ]
    }
   ],
   "source": [
    "df['sentiment'] = df['review_rating'].apply(label_sentiment)\n",
    "print(df['sentiment'].value_counts())"
   ]
  },
  {
   "cell_type": "code",
   "execution_count": null,
   "metadata": {
    "id": "aV6LPRacoPeV"
   },
   "outputs": [],
   "source": [
    "port_stem=PorterStemmer()\n",
    "def stemming(content):\n",
    "  stemmed_content=re.sub('[^a-zA-Z]',' ',content)\n",
    "  stemmed_content=stemmed_content.lower()\n",
    "  stemmed_content=stemmed_content.split()\n",
    "  stemmed_content=[port_stem.stem(word) for word in stemmed_content if not word in stopwords.words('english')]\n",
    "  stemmed_content=' '.join(stemmed_content)\n",
    "  return stemmed_content"
   ]
  },
  {
   "cell_type": "code",
   "execution_count": null,
   "metadata": {
    "id": "U4VnX51NfexZ"
   },
   "outputs": [],
   "source": [
    "df['stemmed_content']=df['review_text'].apply(stemming)"
   ]
  },
  {
   "cell_type": "code",
   "execution_count": null,
   "metadata": {
    "id": "D0fAcgeL50BI"
   },
   "outputs": [],
   "source": [
    "# Clean missing stemmed_content first\n",
    "df = df[df['stemmed_content'].notna()]\n",
    "df = df[df['stemmed_content'].str.strip() != '']\n"
   ]
  },
  {
   "cell_type": "code",
   "execution_count": null,
   "metadata": {
    "colab": {
     "base_uri": "https://localhost:8080/",
     "height": 521
    },
    "id": "PWo-JwQY5Gl_",
    "outputId": "ce79d6d8-b41b-4743-9783-8f70c43a671c"
   },
   "outputs": [
    {
     "data": {
      "application/vnd.google.colaboratory.intrinsic+json": {
       "type": "dataframe",
       "variable_name": "df"
      },
      "text/html": [
       "\n",
       "  <div id=\"df-7cfa7150-65ad-42b5-abb6-dd44848b3798\" class=\"colab-df-container\">\n",
       "    <div>\n",
       "<style scoped>\n",
       "    .dataframe tbody tr th:only-of-type {\n",
       "        vertical-align: middle;\n",
       "    }\n",
       "\n",
       "    .dataframe tbody tr th {\n",
       "        vertical-align: top;\n",
       "    }\n",
       "\n",
       "    .dataframe thead th {\n",
       "        text-align: right;\n",
       "    }\n",
       "</style>\n",
       "<table border=\"1\" class=\"dataframe\">\n",
       "  <thead>\n",
       "    <tr style=\"text-align: right;\">\n",
       "      <th></th>\n",
       "      <th>Unnamed: 0</th>\n",
       "      <th>review_id</th>\n",
       "      <th>pseudo_author_id</th>\n",
       "      <th>author_name</th>\n",
       "      <th>review_text</th>\n",
       "      <th>review_rating</th>\n",
       "      <th>review_likes</th>\n",
       "      <th>author_app_version</th>\n",
       "      <th>review_timestamp</th>\n",
       "      <th>sentiment</th>\n",
       "      <th>stemmed_content</th>\n",
       "    </tr>\n",
       "  </thead>\n",
       "  <tbody>\n",
       "    <tr>\n",
       "      <th>0</th>\n",
       "      <td>0</td>\n",
       "      <td>ff25650a-a9e1-4c02-a8e8-0c85b9ee1dc9</td>\n",
       "      <td>127325963209728431078</td>\n",
       "      <td>B ****or</td>\n",
       "      <td>Used this app for years. Was a great way to es...</td>\n",
       "      <td>1</td>\n",
       "      <td>0</td>\n",
       "      <td>216.1.0.21.137</td>\n",
       "      <td>2022-01-05 23:37:15</td>\n",
       "      <td>negative review</td>\n",
       "      <td>use app year great way escap overli polit envi...</td>\n",
       "    </tr>\n",
       "    <tr>\n",
       "      <th>1</th>\n",
       "      <td>1</td>\n",
       "      <td>7e1840fe-4307-4c97-974c-437ec6c64e60</td>\n",
       "      <td>148177168797697591284</td>\n",
       "      <td>Ù",
       "Ø³*******ÙÙ</td>\n",
       "      <td>khayemalo sag bgad</td>\n",
       "      <td>5</td>\n",
       "      <td>0</td>\n",
       "      <td>155.0.0.37.107</td>\n",
       "      <td>2022-01-05 23:39:29</td>\n",
       "      <td>positive review</td>\n",
       "      <td>khayemalo sag bgad</td>\n",
       "    </tr>\n",
       "    <tr>\n",
       "      <th>2</th>\n",
       "      <td>2</td>\n",
       "      <td>3c8ba6fc-3009-4b1c-9a24-9ea635799a9a</td>\n",
       "      <td>162050472706594017332</td>\n",
       "      <td>Li********on</td>\n",
       "      <td>Lovely</td>\n",
       "      <td>5</td>\n",
       "      <td>0</td>\n",
       "      <td>unknown</td>\n",
       "      <td>2022-01-05 23:39:32</td>\n",
       "      <td>positive review</td>\n",
       "      <td>love</td>\n",
       "    </tr>\n",
       "    <tr>\n",
       "      <th>3</th>\n",
       "      <td>3</td>\n",
       "      <td>47c54668-dbac-4f8f-a98a-3ede00a103ea</td>\n",
       "      <td>264067006274581079256</td>\n",
       "      <td>Fa******Zx</td>\n",
       "      <td>best</td>\n",
       "      <td>5</td>\n",
       "      <td>0</td>\n",
       "      <td>unknown</td>\n",
       "      <td>2022-01-05 23:39:50</td>\n",
       "      <td>positive review</td>\n",
       "      <td>best</td>\n",
       "    </tr>\n",
       "    <tr>\n",
       "      <th>4</th>\n",
       "      <td>4</td>\n",
       "      <td>464a6a51-9a9f-44b0-80b5-eeea24adcd57</td>\n",
       "      <td>224172402296862948810</td>\n",
       "      <td>fr***************67</td>\n",
       "      <td>Super</td>\n",
       "      <td>5</td>\n",
       "      <td>0</td>\n",
       "      <td>216.0.0.20.137</td>\n",
       "      <td>2022-01-05 23:40:08</td>\n",
       "      <td>positive review</td>\n",
       "      <td>super</td>\n",
       "    </tr>\n",
       "  </tbody>\n",
       "</table>\n",
       "</div>\n",
       "    <div class=\"colab-df-buttons\">\n",
       "\n",
       "  <div class=\"colab-df-container\">\n",
       "    <button class=\"colab-df-convert\" onclick=\"convertToInteractive('df-7cfa7150-65ad-42b5-abb6-dd44848b3798')\"\n",
       "            title=\"Convert this dataframe to an interactive table.\"\n",
       "            style=\"display:none;\">\n",
       "\n",
       "  <svg xmlns=\"http://www.w3.org/2000/svg\" height=\"24px\" viewBox=\"0 -960 960 960\">\n",
       "    <path d=\"M120-120v-720h720v720H120Zm60-500h600v-160H180v160Zm220 220h160v-160H400v160Zm0 220h160v-160H400v160ZM180-400h160v-160H180v160Zm440 0h160v-160H620v160ZM180-180h160v-160H180v160Zm440 0h160v-160H620v160Z\"/>\n",
       "  </svg>\n",
       "    </button>\n",
       "\n",
       "  <style>\n",
       "    .colab-df-container {\n",
       "      display:flex;\n",
       "      gap: 12px;\n",
       "    }\n",
       "\n",
       "    .colab-df-convert {\n",
       "      background-color: #E8F0FE;\n",
       "      border: none;\n",
       "      border-radius: 50%;\n",
       "      cursor: pointer;\n",
       "      display: none;\n",
       "      fill: #1967D2;\n",
       "      height: 32px;\n",
       "      padding: 0 0 0 0;\n",
       "      width: 32px;\n",
       "    }\n",
       "\n",
       "    .colab-df-convert:hover {\n",
       "      background-color: #E2EBFA;\n",
       "      box-shadow: 0px 1px 2px rgba(60, 64, 67, 0.3), 0px 1px 3px 1px rgba(60, 64, 67, 0.15);\n",
       "      fill: #174EA6;\n",
       "    }\n",
       "\n",
       "    .colab-df-buttons div {\n",
       "      margin-bottom: 4px;\n",
       "    }\n",
       "\n",
       "    [theme=dark] .colab-df-convert {\n",
       "      background-color: #3B4455;\n",
       "      fill: #D2E3FC;\n",
       "    }\n",
       "\n",
       "    [theme=dark] .colab-df-convert:hover {\n",
       "      background-color: #434B5C;\n",
       "      box-shadow: 0px 1px 3px 1px rgba(0, 0, 0, 0.15);\n",
       "      filter: drop-shadow(0px 1px 2px rgba(0, 0, 0, 0.3));\n",
       "      fill: #FFFFFF;\n",
       "    }\n",
       "  </style>\n",
       "\n",
       "    <script>\n",
       "      const buttonEl =\n",
       "        document.querySelector('#df-7cfa7150-65ad-42b5-abb6-dd44848b3798 button.colab-df-convert');\n",
       "      buttonEl.style.display =\n",
       "        google.colab.kernel.accessAllowed ? 'block' : 'none';\n",
       "\n",
       "      async function convertToInteractive(key) {\n",
       "        const element = document.querySelector('#df-7cfa7150-65ad-42b5-abb6-dd44848b3798');\n",
       "        const dataTable =\n",
       "          await google.colab.kernel.invokeFunction('convertToInteractive',\n",
       "                                                    [key], {});\n",
       "        if (!dataTable) return;\n",
       "\n",
       "        const docLinkHtml = 'Like what you see? Visit the ' +\n",
       "          '<a target=\"_blank\" href=https://colab.research.google.com/notebooks/data_table.ipynb>data table notebook</a>'\n",
       "          + ' to learn more about interactive tables.';\n",
       "        element.innerHTML = '';\n",
       "        dataTable['output_type'] = 'display_data';\n",
       "        await google.colab.output.renderOutput(dataTable, element);\n",
       "        const docLink = document.createElement('div');\n",
       "        docLink.innerHTML = docLinkHtml;\n",
       "        element.appendChild(docLink);\n",
       "      }\n",
       "    </script>\n",
       "  </div>\n",
       "\n",
       "\n",
       "    <div id=\"df-8d24c2b5-ca01-40ca-be70-bf47a228ea33\">\n",
       "      <button class=\"colab-df-quickchart\" onclick=\"quickchart('df-8d24c2b5-ca01-40ca-be70-bf47a228ea33')\"\n",
       "                title=\"Suggest charts\"\n",
       "                style=\"display:none;\">\n",
       "\n",
       "<svg xmlns=\"http://www.w3.org/2000/svg\" height=\"24px\"viewBox=\"0 0 24 24\"\n",
       "     width=\"24px\">\n",
       "    <g>\n",
       "        <path d=\"M19 3H5c-1.1 0-2 .9-2 2v14c0 1.1.9 2 2 2h14c1.1 0 2-.9 2-2V5c0-1.1-.9-2-2-2zM9 17H7v-7h2v7zm4 0h-2V7h2v10zm4 0h-2v-4h2v4z\"/>\n",
       "    </g>\n",
       "</svg>\n",
       "      </button>\n",
       "\n",
       "<style>\n",
       "  .colab-df-quickchart {\n",
       "      --bg-color: #E8F0FE;\n",
       "      --fill-color: #1967D2;\n",
       "      --hover-bg-color: #E2EBFA;\n",
       "      --hover-fill-color: #174EA6;\n",
       "      --disabled-fill-color: #AAA;\n",
       "      --disabled-bg-color: #DDD;\n",
       "  }\n",
       "\n",
       "  [theme=dark] .colab-df-quickchart {\n",
       "      --bg-color: #3B4455;\n",
       "      --fill-color: #D2E3FC;\n",
       "      --hover-bg-color: #434B5C;\n",
       "      --hover-fill-color: #FFFFFF;\n",
       "      --disabled-bg-color: #3B4455;\n",
       "      --disabled-fill-color: #666;\n",
       "  }\n",
       "\n",
       "  .colab-df-quickchart {\n",
       "    background-color: var(--bg-color);\n",
       "    border: none;\n",
       "    border-radius: 50%;\n",
       "    cursor: pointer;\n",
       "    display: none;\n",
       "    fill: var(--fill-color);\n",
       "    height: 32px;\n",
       "    padding: 0;\n",
       "    width: 32px;\n",
       "  }\n",
       "\n",
       "  .colab-df-quickchart:hover {\n",
       "    background-color: var(--hover-bg-color);\n",
       "    box-shadow: 0 1px 2px rgba(60, 64, 67, 0.3), 0 1px 3px 1px rgba(60, 64, 67, 0.15);\n",
       "    fill: var(--button-hover-fill-color);\n",
       "  }\n",
       "\n",
       "  .colab-df-quickchart-complete:disabled,\n",
       "  .colab-df-quickchart-complete:disabled:hover {\n",
       "    background-color: var(--disabled-bg-color);\n",
       "    fill: var(--disabled-fill-color);\n",
       "    box-shadow: none;\n",
       "  }\n",
       "\n",
       "  .colab-df-spinner {\n",
       "    border: 2px solid var(--fill-color);\n",
       "    border-color: transparent;\n",
       "    border-bottom-color: var(--fill-color);\n",
       "    animation:\n",
       "      spin 1s steps(1) infinite;\n",
       "  }\n",
       "\n",
       "  @keyframes spin {\n",
       "    0% {\n",
       "      border-color: transparent;\n",
       "      border-bottom-color: var(--fill-color);\n",
       "      border-left-color: var(--fill-color);\n",
       "    }\n",
       "    20% {\n",
       "      border-color: transparent;\n",
       "      border-left-color: var(--fill-color);\n",
       "      border-top-color: var(--fill-color);\n",
       "    }\n",
       "    30% {\n",
       "      border-color: transparent;\n",
       "      border-left-color: var(--fill-color);\n",
       "      border-top-color: var(--fill-color);\n",
       "      border-right-color: var(--fill-color);\n",
       "    }\n",
       "    40% {\n",
       "      border-color: transparent;\n",
       "      border-right-color: var(--fill-color);\n",
       "      border-top-color: var(--fill-color);\n",
       "    }\n",
       "    60% {\n",
       "      border-color: transparent;\n",
       "      border-right-color: var(--fill-color);\n",
       "    }\n",
       "    80% {\n",
       "      border-color: transparent;\n",
       "      border-right-color: var(--fill-color);\n",
       "      border-bottom-color: var(--fill-color);\n",
       "    }\n",
       "    90% {\n",
       "      border-color: transparent;\n",
       "      border-bottom-color: var(--fill-color);\n",
       "    }\n",
       "  }\n",
       "</style>\n",
       "\n",
       "      <script>\n",
       "        async function quickchart(key) {\n",
       "          const quickchartButtonEl =\n",
       "            document.querySelector('#' + key + ' button');\n",
       "          quickchartButtonEl.disabled = true;  // To prevent multiple clicks.\n",
       "          quickchartButtonEl.classList.add('colab-df-spinner');\n",
       "          try {\n",
       "            const charts = await google.colab.kernel.invokeFunction(\n",
       "                'suggestCharts', [key], {});\n",
       "          } catch (error) {\n",
       "            console.error('Error during call to suggestCharts:', error);\n",
       "          }\n",
       "          quickchartButtonEl.classList.remove('colab-df-spinner');\n",
       "          quickchartButtonEl.classList.add('colab-df-quickchart-complete');\n",
       "        }\n",
       "        (() => {\n",
       "          let quickchartButtonEl =\n",
       "            document.querySelector('#df-8d24c2b5-ca01-40ca-be70-bf47a228ea33 button');\n",
       "          quickchartButtonEl.style.display =\n",
       "            google.colab.kernel.accessAllowed ? 'block' : 'none';\n",
       "        })();\n",
       "      </script>\n",
       "    </div>\n",
       "\n",
       "    </div>\n",
       "  </div>\n"
      ],
      "text/plain": [
       "   Unnamed: 0                             review_id       pseudo_author_id  \\\n",
       "0           0  ff25650a-a9e1-4c02-a8e8-0c85b9ee1dc9  127325963209728431078   \n",
       "1           1  7e1840fe-4307-4c97-974c-437ec6c64e60  148177168797697591284   \n",
       "2           2  3c8ba6fc-3009-4b1c-9a24-9ea635799a9a  162050472706594017332   \n",
       "3           3  47c54668-dbac-4f8f-a98a-3ede00a103ea  264067006274581079256   \n",
       "4           4  464a6a51-9a9f-44b0-80b5-eeea24adcd57  224172402296862948810   \n",
       "\n",
       "           author_name                                        review_text  \\\n",
       "0             B ****or  Used this app for years. Was a great way to es...   \n",
       "1      Ù\n",
       "Ø³*******ÙÙ                                 khayemalo sag bgad   \n",
       "2         Li********on                                             Lovely   \n",
       "3           Fa******Zx                                               best   \n",
       "4  fr***************67                                              Super   \n",
       "\n",
       "   review_rating  review_likes author_app_version     review_timestamp  \\\n",
       "0              1             0     216.1.0.21.137  2022-01-05 23:37:15   \n",
       "1              5             0     155.0.0.37.107  2022-01-05 23:39:29   \n",
       "2              5             0            unknown  2022-01-05 23:39:32   \n",
       "3              5             0            unknown  2022-01-05 23:39:50   \n",
       "4              5             0     216.0.0.20.137  2022-01-05 23:40:08   \n",
       "\n",
       "         sentiment                                    stemmed_content  \n",
       "0  negative review  use app year great way escap overli polit envi...  \n",
       "1  positive review                                 khayemalo sag bgad  \n",
       "2  positive review                                               love  \n",
       "3  positive review                                               best  \n",
       "4  positive review                                              super  "
      ]
     },
     "execution_count": 22,
     "metadata": {},
     "output_type": "execute_result"
    }
   ],
   "source": [
    "df.head()"
   ]
  },
  {
   "cell_type": "code",
   "execution_count": null,
   "metadata": {
    "colab": {
     "base_uri": "https://localhost:8080/"
    },
    "id": "BB-ZsQy9dIPl",
    "outputId": "5fcf4cda-aaf4-4c1a-970e-33f44fa18f50"
   },
   "outputs": [
    {
     "name": "stdout",
     "output_type": "stream",
     "text": [
      "sentiment\n",
      "positive review    2054215\n",
      "negative review    2054215\n",
      "neutral review     2054215\n",
      "Name: count, dtype: int64\n"
     ]
    }
   ],
   "source": [
    "from sklearn.utils import resample\n",
    "\n",
    "df_pos = df[df['sentiment'] == 'positive review']\n",
    "df_neg =df[df['sentiment'] == 'negative review']\n",
    "df_neu = df[df['sentiment'] == 'neutral review']\n",
    "\n",
    "df_neg_upsampled = resample(df_neg,\n",
    "                            replace=True,\n",
    "                            n_samples=len(df_pos),\n",
    "                            random_state=42)\n",
    "\n",
    "df_neu_upsampled = resample(df_neu,\n",
    "                            replace=True,\n",
    "                            n_samples=len(df_pos),\n",
    "                            random_state=42)\n",
    "\n",
    "df_balanced = pd.concat([df_pos, df_neg_upsampled, df_neu_upsampled])\n",
    "print(df_balanced['sentiment'].value_counts())\n"
   ]
  },
  {
   "cell_type": "code",
   "execution_count": null,
   "metadata": {
    "id": "eE1lXBcs6uHf"
   },
   "outputs": [],
   "source": [
    "#converting textual data to numerical data\n",
    "vectorizer = TfidfVectorizer(ngram_range=(1,2), max_features=20000)\n",
    "\n",
    "X = vectorizer.fit_transform(df_balanced['stemmed_content'])  # ✅ Don't overwrite this!\n",
    "\n",
    "\n",
    "\n"
   ]
  },
  {
   "cell_type": "code",
   "execution_count": null,
   "metadata": {
    "id": "E52kEPd_vdvq"
   },
   "outputs": [],
   "source": [
    "from sklearn.preprocessing import LabelEncoder\n",
    "le = LabelEncoder()\n",
    "y = le.fit_transform(df_balanced['sentiment'])\n"
   ]
  },
  {
   "cell_type": "code",
   "execution_count": null,
   "metadata": {
    "colab": {
     "base_uri": "https://localhost:8080/"
    },
    "id": "nsWCxuzA6uwD",
    "outputId": "ece702dd-8bf4-4d06-dd8b-a8a70538b8a9"
   },
   "outputs": [
    {
     "name": "stdout",
     "output_type": "stream",
     "text": [
      "<Compressed Sparse Row sparse matrix of dtype 'float64'\n",
      "\twith 43976487 stored elements and shape (6162645, 20000)>\n",
      "  Coords\tValues\n",
      "  (1, 10149)\t1.0\n",
      "  (2, 2372)\t1.0\n",
      "  (3, 16893)\t1.0\n",
      "  (4, 12591)\t1.0\n",
      "  (5, 3937)\t0.2601588142826362\n",
      "  (5, 12396)\t0.3097400807022021\n",
      "  (5, 19164)\t0.16414650840720105\n",
      "  (5, 2707)\t0.2210247970955239\n",
      "  (5, 8119)\t0.10294496957749756\n",
      "  (5, 15609)\t0.18165493227662585\n",
      "  (5, 3688)\t0.23157613788418796\n",
      "  (5, 9623)\t0.12785408305653606\n",
      "  (5, 4151)\t0.17208543987456143\n",
      "  (5, 12722)\t0.17069429351753282\n",
      "  (5, 14998)\t0.33399079907144336\n",
      "  (5, 16031)\t0.28407889522423485\n",
      "  (5, 5165)\t0.2787502283317647\n",
      "  (5, 8432)\t0.3260243646260865\n",
      "  (5, 9656)\t0.3274773009205221\n",
      "  (5, 4187)\t0.32369199782418684\n",
      "  (6, 8513)\t1.0\n",
      "  (7, 2372)\t0.2925117786608254\n",
      "  (7, 8119)\t0.21322679056190114\n",
      "  (7, 11870)\t0.3233939469894127\n",
      "  (7, 1179)\t0.16525342671446308\n",
      "  :\t:\n",
      "  (6162643, 10104)\t0.17337562654994984\n",
      "  (6162643, 18486)\t0.24271740280382934\n",
      "  (6162643, 8797)\t0.32979899602091767\n",
      "  (6162643, 19008)\t0.2612539377025913\n",
      "  (6162643, 3855)\t0.32116329461462195\n",
      "  (6162643, 10109)\t0.22672714752314024\n",
      "  (6162643, 18997)\t0.32699876779998355\n",
      "  (6162643, 2767)\t0.3453491279105365\n",
      "  (6162644, 2372)\t0.15114578133605958\n",
      "  (6162644, 8119)\t0.11017788756680605\n",
      "  (6162644, 12493)\t0.1717174516407955\n",
      "  (6162644, 13694)\t0.21612277737198127\n",
      "  (6162644, 8158)\t0.2509736190820566\n",
      "  (6162644, 12105)\t0.15362704342406885\n",
      "  (6162644, 12950)\t0.13296494166522205\n",
      "  (6162644, 12792)\t0.22341548741583503\n",
      "  (6162644, 19021)\t0.20052418624946688\n",
      "  (6162644, 14555)\t0.2037844240764526\n",
      "  (6162644, 13022)\t0.280945169486024\n",
      "  (6162644, 15930)\t0.23996394130582735\n",
      "  (6162644, 15939)\t0.3129051971546485\n",
      "  (6162644, 3360)\t0.2965915894987171\n",
      "  (6162644, 19045)\t0.34596687649357993\n",
      "  (6162644, 13704)\t0.31722126075956175\n",
      "  (6162644, 14572)\t0.33194442708813293\n"
     ]
    }
   ],
   "source": [
    "print(X)"
   ]
  },
  {
   "cell_type": "code",
   "execution_count": null,
   "metadata": {
    "colab": {
     "base_uri": "https://localhost:8080/"
    },
    "id": "v5ukLobX6u58",
    "outputId": "0bb9d5a4-702f-435c-dc2f-430c383360c8"
   },
   "outputs": [
    {
     "name": "stdout",
     "output_type": "stream",
     "text": [
      "[2 2 2 ... 1 1 1]\n"
     ]
    }
   ],
   "source": [
    "print(y)"
   ]
  },
  {
   "cell_type": "code",
   "execution_count": null,
   "metadata": {
    "id": "pwfOHB2L6ulp"
   },
   "outputs": [],
   "source": [
    "\n",
    "\n",
    "X_train, X_test, y_train, y_test, idx_train, idx_test = train_test_split(\n",
    "    X, y, df_balanced.index,\n",
    "    test_size=0.2,\n",
    "    stratify=y,\n",
    "    random_state=42\n",
    ")\n"
   ]
  },
  {
   "cell_type": "code",
   "execution_count": null,
   "metadata": {
    "colab": {
     "base_uri": "https://localhost:8080/"
    },
    "id": "uJ7qr7je6uZj",
    "outputId": "b817e063-464b-40ea-c481-410f7bc81f75"
   },
   "outputs": [
    {
     "name": "stdout",
     "output_type": "stream",
     "text": [
      "(6162645, 20000) (4930116, 20000) (1232529, 20000)\n"
     ]
    }
   ],
   "source": [
    "print(X.shape,X_train.shape,X_test.shape)"
   ]
  },
  {
   "cell_type": "code",
   "execution_count": null,
   "metadata": {
    "colab": {
     "base_uri": "https://localhost:8080/"
    },
    "id": "1fjnNmfF1V14",
    "outputId": "9969e5bc-fbb4-4a27-b2bf-7aab79560742"
   },
   "outputs": [
    {
     "name": "stdout",
     "output_type": "stream",
     "text": [
      "4930116 4930116\n"
     ]
    }
   ],
   "source": [
    "print(X_train.shape[0], y_train.shape[0])\n"
   ]
  },
  {
   "cell_type": "code",
   "execution_count": null,
   "metadata": {
    "colab": {
     "base_uri": "https://localhost:8080/"
    },
    "id": "NsbGOow8NhQM",
    "outputId": "4efe509d-2b3e-4f83-d232-8f663467e491"
   },
   "outputs": [
    {
     "name": "stdout",
     "output_type": "stream",
     "text": [
      "<Compressed Sparse Row sparse matrix of dtype 'float64'\n",
      "\twith 35189436 stored elements and shape (4930116, 20000)>\n",
      "  Coords\tValues\n",
      "  (1, 2745)\t0.4403517334114406\n",
      "  (1, 6543)\t0.4979298974577644\n",
      "  (1, 2786)\t0.7470984995964318\n",
      "  (2, 3839)\t0.19268565577711258\n",
      "  (2, 5732)\t0.13190871435505372\n",
      "  (2, 12950)\t0.11982067175382058\n",
      "  (2, 200)\t0.24650638726262628\n",
      "  (2, 11363)\t0.29069115126506306\n",
      "  (2, 13517)\t0.12851830060229633\n",
      "  (2, 12982)\t0.16264111108748808\n",
      "  (2, 5784)\t0.19621772749378835\n",
      "  (2, 13190)\t0.18767729686118997\n",
      "  (2, 3390)\t0.1923241335212195\n",
      "  (2, 14104)\t0.18023269660508648\n",
      "  (2, 15946)\t0.2740370272399657\n",
      "  (2, 11365)\t0.4459928815031376\n",
      "  (2, 3848)\t0.245623579829194\n",
      "  (2, 14123)\t0.30282848540811264\n",
      "  (2, 237)\t0.32667595342484773\n",
      "  (2, 368)\t0.25869632665727554\n",
      "  (3, 1179)\t0.09645435233422335\n",
      "  (3, 6727)\t0.11258891678291157\n",
      "  (3, 6739)\t0.1807595567626873\n",
      "  (3, 16245)\t0.22689514706963246\n",
      "  (3, 5732)\t0.16534747561030483\n",
      "  :\t:\n",
      "  (4930110, 12839)\t0.24454476467972194\n",
      "  (4930110, 16563)\t0.13916016446263613\n",
      "  (4930110, 17374)\t0.2424131402741496\n",
      "  (4930110, 3630)\t0.19852227951967535\n",
      "  (4930110, 3635)\t0.2679945668081704\n",
      "  (4930110, 11732)\t0.190989025094456\n",
      "  (4930110, 11286)\t0.23532506536169132\n",
      "  (4930110, 1670)\t0.1818613877331344\n",
      "  (4930110, 18344)\t0.23424904572932173\n",
      "  (4930110, 11922)\t0.23283028689933002\n",
      "  (4930110, 16565)\t0.24202600144373757\n",
      "  (4930110, 18403)\t0.24783626062665284\n",
      "  (4930110, 11733)\t0.24887000161857792\n",
      "  (4930110, 8294)\t0.25663181078056707\n",
      "  (4930111, 6727)\t1.0\n",
      "  (4930112, 11498)\t0.36319582128325556\n",
      "  (4930112, 18870)\t0.2440855416329372\n",
      "  (4930112, 5619)\t0.33070673913568754\n",
      "  (4930112, 5645)\t0.5850168379880211\n",
      "  (4930112, 18951)\t0.5974105755080632\n",
      "  (4930114, 1179)\t0.35492458138093047\n",
      "  (4930114, 6543)\t0.37056764686928567\n",
      "  (4930114, 1376)\t0.6101240123722547\n",
      "  (4930114, 6550)\t0.6037026173142804\n",
      "  (4930115, 18097)\t1.0\n"
     ]
    }
   ],
   "source": [
    "print(X_train)"
   ]
  },
  {
   "cell_type": "code",
   "execution_count": null,
   "metadata": {
    "colab": {
     "base_uri": "https://localhost:8080/"
    },
    "id": "tI0GtWw88AHC",
    "outputId": "d1f6651e-0c11-44d8-e76e-dde682b31ff2"
   },
   "outputs": [
    {
     "name": "stdout",
     "output_type": "stream",
     "text": [
      "<Compressed Sparse Row sparse matrix of dtype 'float64'\n",
      "\twith 8787051 stored elements and shape (1232529, 20000)>\n",
      "  Coords\tValues\n",
      "  (0, 16893)\t0.23517939836583793\n",
      "  (0, 1179)\t0.11743531994613883\n",
      "  (0, 3208)\t0.25776946235772663\n",
      "  (0, 15289)\t0.22478449714523566\n",
      "  (0, 3705)\t0.28539414984065087\n",
      "  (0, 14232)\t0.1891882953033847\n",
      "  (0, 15372)\t0.3459140286380915\n",
      "  (0, 1273)\t0.4167504670171682\n",
      "  (0, 14247)\t0.40547633453692655\n",
      "  (0, 3253)\t0.4888106726046092\n",
      "  (1, 10149)\t0.17866944494987655\n",
      "  (1, 6233)\t0.0886686554890349\n",
      "  (1, 6627)\t0.11196136762643558\n",
      "  (1, 17341)\t0.11433243784868861\n",
      "  (1, 5652)\t0.1278385636728456\n",
      "  (1, 10379)\t0.09658956777982702\n",
      "  (1, 10094)\t0.2918628767500205\n",
      "  (1, 9205)\t0.1124447458509327\n",
      "  (1, 4801)\t0.1547610091038671\n",
      "  (1, 10823)\t0.14574277671363492\n",
      "  (1, 502)\t0.14085927873399606\n",
      "  (1, 4663)\t0.17514630021748728\n",
      "  (1, 4577)\t0.30137909353437103\n",
      "  (1, 7358)\t0.39026236476983883\n",
      "  (1, 3045)\t0.1593011201337166\n",
      "  :\t:\n",
      "  (1232523, 10149)\t1.0\n",
      "  (1232524, 8119)\t0.1319103650551124\n",
      "  (1232524, 200)\t0.1637525453298953\n",
      "  (1232524, 5402)\t0.2803265130092054\n",
      "  (1232524, 13082)\t0.234861920651428\n",
      "  (1232524, 8694)\t0.20048374978770991\n",
      "  (1232524, 14207)\t0.30295263160451696\n",
      "  (1232524, 355)\t0.38464729135364106\n",
      "  (1232524, 8696)\t0.39158842100438757\n",
      "  (1232524, 17156)\t0.32767687233883586\n",
      "  (1232524, 13095)\t0.38003303932024274\n",
      "  (1232524, 17159)\t0.3701018495560938\n",
      "  (1232525, 12608)\t0.2476874029699996\n",
      "  (1232525, 10610)\t0.3853015016137953\n",
      "  (1232525, 11746)\t0.2652847478357515\n",
      "  (1232525, 16260)\t0.3039070808266421\n",
      "  (1232525, 8818)\t0.3536112312724951\n",
      "  (1232525, 10671)\t0.39221921330046344\n",
      "  (1232525, 62)\t0.4179847208740746\n",
      "  (1232525, 9335)\t0.41697739867410016\n",
      "  (1232526, 11498)\t1.0\n",
      "  (1232527, 6727)\t1.0\n",
      "  (1232528, 10862)\t0.5043366067915015\n",
      "  (1232528, 18773)\t0.5908925253122012\n",
      "  (1232528, 18774)\t0.6296750039347315\n"
     ]
    }
   ],
   "source": [
    "print(X_test)"
   ]
  },
  {
   "cell_type": "code",
   "execution_count": null,
   "metadata": {
    "colab": {
     "base_uri": "https://localhost:8080/"
    },
    "id": "Kw4UOAPd4RTQ",
    "outputId": "7e3faeed-950f-4693-9594-7e90b99ad159"
   },
   "outputs": [
    {
     "name": "stdout",
     "output_type": "stream",
     "text": [
      "(2887975, 11)\n",
      "(2887975,)\n",
      "(6162645,)\n"
     ]
    }
   ],
   "source": [
    "print(df.shape)\n",
    "print(df['review_rating'].shape)\n",
    "\n",
    "print(df_balanced['sentiment'].shape)\n"
   ]
  },
  {
   "cell_type": "code",
   "execution_count": null,
   "metadata": {
    "id": "lsA-M2Ig8D1q"
   },
   "outputs": [],
   "source": [
    "#training the model\n",
    "model = RandomForestClassifier(n_estimators=100, random_state=42)\n"
   ]
  },
  {
   "cell_type": "code",
   "execution_count": null,
   "metadata": {
    "id": "nsR_gbzTBwnc"
   },
   "outputs": [],
   "source": [
    "model.fit(X_train,y_train)"
   ]
  },
  {
   "cell_type": "code",
   "execution_count": null,
   "metadata": {
    "id": "RrLVcXeuYb-O"
   },
   "outputs": [],
   "source": [
    "#accuracy score on training model\n",
    "X_train_prediction=model.predict(X_train)\n",
    "training_data_accuracy=accuracy_score(X_train_prediction,y_train)"
   ]
  },
  {
   "cell_type": "code",
   "execution_count": null,
   "metadata": {
    "colab": {
     "base_uri": "https://localhost:8080/"
    },
    "id": "3hJcHMEZYfbR",
    "outputId": "ac8c781c-0ed4-42a7-aa9a-14546007430f"
   },
   "outputs": [
    {
     "name": "stdout",
     "output_type": "stream",
     "text": [
      "Accuracy score of the training data :  0.6116466630805442\n"
     ]
    }
   ],
   "source": [
    "print('Accuracy score of the training data : ', training_data_accuracy)"
   ]
  },
  {
   "cell_type": "code",
   "execution_count": null,
   "metadata": {
    "id": "S4TDjB2vL9o1"
   },
   "outputs": [],
   "source": [
    "#accuracy score on test model\n",
    "X_test_prediction=model.predict(X_test)\n",
    "test_data_accuracy=accuracy_score(X_test_prediction,y_test)"
   ]
  },
  {
   "cell_type": "code",
   "execution_count": null,
   "metadata": {
    "colab": {
     "base_uri": "https://localhost:8080/"
    },
    "id": "NAxgdBS9I6Nw",
    "outputId": "698dec4f-c621-4c54-ec7c-ae85671a2452"
   },
   "outputs": [
    {
     "name": "stdout",
     "output_type": "stream",
     "text": [
      "Accuracy score of the test data :  0.6073682647629386\n"
     ]
    }
   ],
   "source": [
    "print('Accuracy score of the test data : ', test_data_accuracy)"
   ]
  },
  {
   "cell_type": "code",
   "execution_count": null,
   "metadata": {
    "colab": {
     "base_uri": "https://localhost:8080/"
    },
    "id": "OXOH3oKZdIvf",
    "outputId": "8cc4a1e1-33b7-4e7f-9524-ad4f2b0e10ba"
   },
   "outputs": [
    {
     "name": "stdout",
     "output_type": "stream",
     "text": [
      "0.3333333333333333\n"
     ]
    }
   ],
   "source": [
    "baseline_accuracy = df_balanced['sentiment'].value_counts(normalize=True).max()\n",
    "print(baseline_accuracy)\n"
   ]
  },
  {
   "cell_type": "code",
   "execution_count": null,
   "metadata": {
    "id": "Gcr3LKA4lLO5"
   },
   "outputs": [],
   "source": [
    "import pickle"
   ]
  },
  {
   "cell_type": "code",
   "execution_count": null,
   "metadata": {
    "id": "uL4mSgoslNLL"
   },
   "outputs": [],
   "source": [
    "filename='trained_model.sav'\n",
    "pickle.dump(model,open(filename,'wb'))"
   ]
  },
  {
   "cell_type": "code",
   "execution_count": null,
   "metadata": {
    "id": "2qQKC6vgltUu"
   },
   "outputs": [],
   "source": [
    "#loading saved model\n",
    "loaded_model=pickle.load(open('trained_model.sav','rb'))\n"
   ]
  },
  {
   "cell_type": "code",
   "execution_count": null,
   "metadata": {
    "colab": {
     "base_uri": "https://localhost:8080/"
    },
    "id": "e7_r3RHXBy1u",
    "outputId": "e697f807-0086-4d5b-de97-9318bccc4e0c"
   },
   "outputs": [
    {
     "name": "stdout",
     "output_type": "stream",
     "text": [
      "2\n",
      "Predicted Sentiment: positive review\n"
     ]
    }
   ],
   "source": [
    "X_new=X_test[2]\n",
    "print(y_test[2])\n",
    "prediction = model.predict(X_new)\n",
    "sentiment = le.inverse_transform(prediction)[0]\n",
    "print(\"Predicted Sentiment:\", sentiment)\n",
    "\n"
   ]
  },
  {
   "cell_type": "code",
   "execution_count": null,
   "metadata": {
    "colab": {
     "base_uri": "https://localhost:8080/"
    },
    "id": "Y0ZybJBwFxHb",
    "outputId": "f175dbfa-1985-4957-b4c6-3545feeb0859"
   },
   "outputs": [
    {
     "name": "stdout",
     "output_type": "stream",
     "text": [
      "0\n",
      "Predicted Sentiment: negative review\n"
     ]
    }
   ],
   "source": [
    "X_new=X_test[11]\n",
    "print(y_test[11])\n",
    "prediction = model.predict(X_new)\n",
    "sentiment = le.inverse_transform(prediction)[0]\n",
    "print(\"Predicted Sentiment:\", sentiment)\n",
    "\n"
   ]
  },
  {
   "cell_type": "code",
   "execution_count": null,
   "metadata": {
    "colab": {
     "base_uri": "https://localhost:8080/"
    },
    "id": "TXx5mxRfpbod",
    "outputId": "742726cd-b522-4fc2-fb70-f777e0a6edb2"
   },
   "outputs": [
    {
     "name": "stdout",
     "output_type": "stream",
     "text": [
      "1\n",
      "Predicted Sentiment: negative review\n"
     ]
    }
   ],
   "source": [
    "X_new=X_test[24]\n",
    "print(y_test[24])\n",
    "prediction = model.predict(X_new)\n",
    "sentiment = le.inverse_transform(prediction)[0]\n",
    "print(\"Predicted Sentiment:\", sentiment)"
   ]
  },
  {
   "cell_type": "code",
   "execution_count": null,
   "metadata": {
    "colab": {
     "base_uri": "https://localhost:8080/"
    },
    "id": "SqakQ2zCqILb",
    "outputId": "d0385be2-74fa-4b9a-9ba6-0378d61c334e"
   },
   "outputs": [
    {
     "name": "stdout",
     "output_type": "stream",
     "text": [
      "Review Rating     : 976776    3\n",
      "976776    3\n",
      "976776    3\n",
      "976776    3\n",
      "976776    3\n",
      "976776    3\n",
      "976776    3\n",
      "976776    3\n",
      "976776    3\n",
      "976776    3\n",
      "976776    3\n",
      "976776    3\n",
      "Name: review_rating, dtype: int64\n",
      "True Sentiment    : 976776    neutral review\n",
      "976776    neutral review\n",
      "976776    neutral review\n",
      "976776    neutral review\n",
      "976776    neutral review\n",
      "976776    neutral review\n",
      "976776    neutral review\n",
      "976776    neutral review\n",
      "976776    neutral review\n",
      "976776    neutral review\n",
      "976776    neutral review\n",
      "976776    neutral review\n",
      "Name: sentiment, dtype: object\n",
      "Review Text       : 976776    Not bad!\n",
      "976776    Not bad!\n",
      "976776    Not bad!\n",
      "976776    Not bad!\n",
      "976776    Not bad!\n",
      "976776    Not bad!\n",
      "976776    Not bad!\n",
      "976776    Not bad!\n",
      "976776    Not bad!\n",
      "976776    Not bad!\n",
      "976776    Not bad!\n",
      "976776    Not bad!\n",
      "Name: review_text, dtype: object\n",
      "Model Confidence  : [0.64375806 0.28763867 0.06860328]\n",
      "Predicted Sentiment: negative review\n"
     ]
    }
   ],
   "source": [
    "original_index = idx_test[24]\n",
    "row = df_balanced.loc[original_index]\n",
    "\n",
    "print(\"Review Rating     :\", row['review_rating'])\n",
    "print(\"True Sentiment    :\", row['sentiment'])\n",
    "print(\"Review Text       :\", row['review_text'])\n",
    "\n",
    "X_new = X_test[24]\n",
    "proba = model.predict_proba(X_new)\n",
    "print(\"Model Confidence  :\", proba[0])\n",
    "\n",
    "prediction = model.predict(X_new)\n",
    "print(\"Predicted Sentiment:\", le.inverse_transform(prediction)[0])\n"
   ]
  },
  {
   "cell_type": "code",
   "execution_count": null,
   "metadata": {
    "colab": {
     "base_uri": "https://localhost:8080/"
    },
    "id": "CI21E9Rd46gK",
    "outputId": "56cf264b-046d-4f2e-f455-c1eb0517cea5"
   },
   "outputs": [
    {
     "name": "stdout",
     "output_type": "stream",
     "text": [
      "Class Probabilities: [[0.64375806 0.28763867 0.06860328]]\n",
      "Predicted Label: ['negative review']\n"
     ]
    }
   ],
   "source": [
    "proba = model.predict_proba(X_new)\n",
    "print(\"Class Probabilities:\", proba)\n",
    "print(\"Predicted Label:\", le.inverse_transform([np.argmax(proba)]))\n",
    "\n",
    "\n",
    "\n"
   ]
  },
  {
   "cell_type": "code",
   "execution_count": null,
   "metadata": {
    "id": "XnDsJIejZtAC"
   },
   "outputs": [],
   "source": []
  }
 ],
 "metadata": {
  "colab": {
   "provenance": []
  },
  "kernelspec": {
   "display_name": "Python 3 (ipykernel)",
   "language": "python",
   "name": "python3"
  },
  "language_info": {
   "codemirror_mode": {
    "name": "ipython",
    "version": 3
   },
   "file_extension": ".py",
   "mimetype": "text/x-python",
   "name": "python",
   "nbconvert_exporter": "python",
   "pygments_lexer": "ipython3",
   "version": "3.13.0"
  }
 },
 "nbformat": 4,
 "nbformat_minor": 4
}
