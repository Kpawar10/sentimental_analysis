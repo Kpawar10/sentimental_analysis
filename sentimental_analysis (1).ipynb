{
 "cells": [
  {
   "cell_type": "code",
   "execution_count": 2,
   "metadata": {
    "colab": {
     "base_uri": "https://localhost:8080/"
    },
    "id": "YN_SRbazIpA-",
    "outputId": "d8902f1e-1ac9-4ce5-cd8b-454697e73b75"
   },
   "outputs": [
    {
     "name": "stdout",
     "output_type": "stream",
     "text": [
      "Defaulting to user installation because normal site-packages is not writeable"
     ]
    },
    {
     "name": "stderr",
     "output_type": "stream",
     "text": [
      "\n",
      "[notice] A new release of pip is available: 24.3.1 -> 25.1.1\n",
      "[notice] To update, run: python.exe -m pip install --upgrade pip\n"
     ]
    },
    {
     "name": "stdout",
     "output_type": "stream",
     "text": [
      "\n",
      "Requirement already satisfied: kaggle in c:\\users\\kritika pawar\\appdata\\roaming\\python\\python313\\site-packages (1.7.4.5)\n",
      "Requirement already satisfied: bleach in c:\\users\\kritika pawar\\appdata\\roaming\\python\\python313\\site-packages (from kaggle) (6.1.0)\n",
      "Requirement already satisfied: certifi>=14.05.14 in c:\\users\\kritika pawar\\appdata\\roaming\\python\\python313\\site-packages (from kaggle) (2024.8.30)\n",
      "Requirement already satisfied: charset-normalizer in c:\\users\\kritika pawar\\appdata\\roaming\\python\\python313\\site-packages (from kaggle) (3.4.0)\n",
      "Requirement already satisfied: idna in c:\\users\\kritika pawar\\appdata\\roaming\\python\\python313\\site-packages (from kaggle) (3.10)\n",
      "Requirement already satisfied: protobuf in c:\\users\\kritika pawar\\appdata\\roaming\\python\\python313\\site-packages (from kaggle) (6.31.1)\n",
      "Requirement already satisfied: python-dateutil>=2.5.3 in c:\\users\\kritika pawar\\appdata\\roaming\\python\\python313\\site-packages (from kaggle) (2.9.0.post0)\n",
      "Requirement already satisfied: python-slugify in c:\\users\\kritika pawar\\appdata\\roaming\\python\\python313\\site-packages (from kaggle) (8.0.4)\n",
      "Requirement already satisfied: requests in c:\\users\\kritika pawar\\appdata\\roaming\\python\\python313\\site-packages (from kaggle) (2.32.3)\n",
      "Requirement already satisfied: setuptools>=21.0.0 in c:\\users\\kritika pawar\\appdata\\roaming\\python\\python313\\site-packages (from kaggle) (75.2.0)\n",
      "Requirement already satisfied: six>=1.10 in c:\\users\\kritika pawar\\appdata\\roaming\\python\\python313\\site-packages (from kaggle) (1.16.0)\n",
      "Requirement already satisfied: text-unidecode in c:\\users\\kritika pawar\\appdata\\roaming\\python\\python313\\site-packages (from kaggle) (1.3)\n",
      "Requirement already satisfied: tqdm in c:\\users\\kritika pawar\\appdata\\roaming\\python\\python313\\site-packages (from kaggle) (4.67.0)\n",
      "Requirement already satisfied: urllib3>=1.15.1 in c:\\users\\kritika pawar\\appdata\\roaming\\python\\python313\\site-packages (from kaggle) (2.2.3)\n",
      "Requirement already satisfied: webencodings in c:\\users\\kritika pawar\\appdata\\roaming\\python\\python313\\site-packages (from kaggle) (0.5.1)\n",
      "Requirement already satisfied: colorama in c:\\users\\kritika pawar\\appdata\\roaming\\python\\python313\\site-packages (from tqdm->kaggle) (0.4.6)\n"
     ]
    }
   ],
   "source": [
    "#installing kaggle library\n",
    "! pip install kaggle\n"
   ]
  },
  {
   "cell_type": "code",
   "execution_count": 3,
   "metadata": {
    "id": "d0kjruuxJflQ"
   },
   "outputs": [
    {
     "name": "stderr",
     "output_type": "stream",
     "text": [
      "The syntax of the command is incorrect.\n",
      "'cp' is not recognized as an internal or external command,\n",
      "operable program or batch file.\n",
      "'chmod' is not recognized as an internal or external command,\n",
      "operable program or batch file.\n"
     ]
    }
   ],
   "source": [
    "# configuring path of kaggle.json file\n",
    "!mkdir -p ~/.kaggle\n",
    "!cp kaggle.json ~/.kaggle/\n",
    "!chmod 600 ~/.kaggle/kaggle.json"
   ]
  },
  {
   "cell_type": "code",
   "execution_count": 4,
   "metadata": {
    "colab": {
     "base_uri": "https://localhost:8080/"
    },
    "id": "w8zFVB3XLDXS",
    "outputId": "8bb37795-1319-468b-b9a3-b96854cf7e77"
   },
   "outputs": [
    {
     "name": "stderr",
     "output_type": "stream",
     "text": [
      "Traceback (most recent call last):\n",
      "  File \"<frozen runpy>\", line 198, in _run_module_as_main\n",
      "  File \"<frozen runpy>\", line 88, in _run_code\n",
      "  File \"C:\\Users\\Kritika Pawar\\AppData\\Roaming\\Python\\Python313\\Scripts\\kaggle.exe\\__main__.py\", line 7, in <module>\n",
      "    sys.exit(main())\n",
      "             ~~~~^^\n",
      "  File \"C:\\Users\\Kritika Pawar\\AppData\\Roaming\\Python\\Python313\\site-packages\\kaggle\\cli.py\", line 68, in main\n",
      "    out = args.func(**command_args)\n",
      "  File \"C:\\Users\\Kritika Pawar\\AppData\\Roaming\\Python\\Python313\\site-packages\\kaggle\\api\\kaggle_api_extended.py\", line 1741, in dataset_download_cli\n",
      "    with self.build_kaggle_client() as kaggle:\n",
      "         ~~~~~~~~~~~~~~~~~~~~~~~~^^\n",
      "  File \"C:\\Users\\Kritika Pawar\\AppData\\Roaming\\Python\\Python313\\site-packages\\kaggle\\api\\kaggle_api_extended.py\", line 688, in build_kaggle_client\n",
      "    username=self.config_values['username'],\n",
      "             ~~~~~~~~~~~~~~~~~~^^^^^^^^^^^^\n",
      "KeyError: 'username'\n"
     ]
    }
   ],
   "source": [
    "#api command\n",
    "!kaggle datasets download -d bwandowando/3-million-instagram-google-store-reviews\n"
   ]
  },
  {
   "cell_type": "code",
   "execution_count": 5,
   "metadata": {
    "colab": {
     "base_uri": "https://localhost:8080/"
    },
    "id": "tvU2A68NNzf0",
    "outputId": "e8123655-78a9-4d9d-a567-a9950de60de4"
   },
   "outputs": [
    {
     "ename": "FileNotFoundError",
     "evalue": "[Errno 2] No such file or directory: '/content/3-million-instagram-google-store-reviews.zip'",
     "output_type": "error",
     "traceback": [
      "\u001b[1;31m---------------------------------------------------------------------------\u001b[0m",
      "\u001b[1;31mFileNotFoundError\u001b[0m                         Traceback (most recent call last)",
      "Cell \u001b[1;32mIn[5], line 5\u001b[0m\n\u001b[0;32m      2\u001b[0m \u001b[38;5;28;01mfrom\u001b[39;00m \u001b[38;5;21;01mzipfile\u001b[39;00m \u001b[38;5;28;01mimport\u001b[39;00m ZipFile\n\u001b[0;32m      3\u001b[0m dataset \u001b[38;5;241m=\u001b[39m \u001b[38;5;124m'\u001b[39m\u001b[38;5;124m/content/3-million-instagram-google-store-reviews.zip\u001b[39m\u001b[38;5;124m'\u001b[39m\n\u001b[1;32m----> 5\u001b[0m \u001b[38;5;28;01mwith\u001b[39;00m \u001b[43mZipFile\u001b[49m\u001b[43m(\u001b[49m\u001b[43mdataset\u001b[49m\u001b[43m,\u001b[49m\u001b[38;5;124;43m'\u001b[39;49m\u001b[38;5;124;43mr\u001b[39;49m\u001b[38;5;124;43m'\u001b[39;49m\u001b[43m)\u001b[49m \u001b[38;5;28;01mas\u001b[39;00m \u001b[38;5;28mzip\u001b[39m:\n\u001b[0;32m      6\u001b[0m   \u001b[38;5;28mzip\u001b[39m\u001b[38;5;241m.\u001b[39mextractall()\n\u001b[0;32m      7\u001b[0m   \u001b[38;5;28mprint\u001b[39m(\u001b[38;5;124m'\u001b[39m\u001b[38;5;124mextracted\u001b[39m\u001b[38;5;124m'\u001b[39m)\n",
      "File \u001b[1;32mC:\\Program Files\\Python313\\Lib\\zipfile\\__init__.py:1362\u001b[0m, in \u001b[0;36mZipFile.__init__\u001b[1;34m(self, file, mode, compression, allowZip64, compresslevel, strict_timestamps, metadata_encoding)\u001b[0m\n\u001b[0;32m   1360\u001b[0m \u001b[38;5;28;01mwhile\u001b[39;00m \u001b[38;5;28;01mTrue\u001b[39;00m:\n\u001b[0;32m   1361\u001b[0m     \u001b[38;5;28;01mtry\u001b[39;00m:\n\u001b[1;32m-> 1362\u001b[0m         \u001b[38;5;28mself\u001b[39m\u001b[38;5;241m.\u001b[39mfp \u001b[38;5;241m=\u001b[39m \u001b[43mio\u001b[49m\u001b[38;5;241;43m.\u001b[39;49m\u001b[43mopen\u001b[49m\u001b[43m(\u001b[49m\u001b[43mfile\u001b[49m\u001b[43m,\u001b[49m\u001b[43m \u001b[49m\u001b[43mfilemode\u001b[49m\u001b[43m)\u001b[49m\n\u001b[0;32m   1363\u001b[0m     \u001b[38;5;28;01mexcept\u001b[39;00m \u001b[38;5;167;01mOSError\u001b[39;00m:\n\u001b[0;32m   1364\u001b[0m         \u001b[38;5;28;01mif\u001b[39;00m filemode \u001b[38;5;129;01min\u001b[39;00m modeDict:\n",
      "\u001b[1;31mFileNotFoundError\u001b[0m: [Errno 2] No such file or directory: '/content/3-million-instagram-google-store-reviews.zip'"
     ]
    }
   ],
   "source": [
    "#extracting zip file\n",
    "from zipfile import ZipFile\n",
    "dataset = '/content/3-million-instagram-google-store-reviews.zip'\n",
    "\n",
    "with ZipFile(dataset,'r') as zip:\n",
    "  zip.extractall()\n",
    "  print('extracted')"
   ]
  },
  {
   "cell_type": "code",
   "execution_count": null,
   "metadata": {
    "id": "a6CnBy_42TAF"
   },
   "outputs": [],
   "source": [
    "#required libraries\n",
    "import numpy as np\n",
    "import pandas as pd\n",
    "import re\n",
    "from nltk.corpus import stopwords\n",
    "from nltk.stem.porter import PorterStemmer\n",
    "from sklearn.feature_extraction.text import TfidfVectorizer\n",
    "from sklearn.model_selection import train_test_split\n",
    "from sklearn.linear_model import LogisticRegression\n",
    "from sklearn.metrics import accuracy_score"
   ]
  },
  {
   "cell_type": "code",
   "execution_count": null,
   "metadata": {
    "colab": {
     "base_uri": "https://localhost:8080/"
    },
    "id": "Qn-wAYDMCB_3",
    "outputId": "5b399eab-7217-4893-d2aa-7ed93a21e10b"
   },
   "outputs": [],
   "source": [
    "import nltk\n",
    "nltk.download('stopwords')"
   ]
  },
  {
   "cell_type": "code",
   "execution_count": null,
   "metadata": {
    "colab": {
     "base_uri": "https://localhost:8080/"
    },
    "id": "RR--QOhvDYbY",
    "outputId": "67c4dc8d-836b-4a84-bc96-331cae9bee69"
   },
   "outputs": [],
   "source": [
    "print(stopwords.words('english'))"
   ]
  },
  {
   "cell_type": "code",
   "execution_count": null,
   "metadata": {
    "id": "-Y6Jy991Jeia"
   },
   "outputs": [],
   "source": [
    "instagram_data=pd.read_csv('/content/INSTAGRAM_REVIEWS.csv',encoding= 'ISO-8859-1')"
   ]
  },
  {
   "cell_type": "code",
   "execution_count": null,
   "metadata": {
    "colab": {
     "base_uri": "https://localhost:8080/"
    },
    "id": "G8Byuxc9f0Nc",
    "outputId": "a0f76f67-58af-44da-8e6f-eeb99120535d"
   },
   "outputs": [],
   "source": [
    "instagram_data.shape"
   ]
  },
  {
   "cell_type": "code",
   "execution_count": null,
   "metadata": {
    "colab": {
     "base_uri": "https://localhost:8080/",
     "height": 521
    },
    "id": "pkajDj8ckSvX",
    "outputId": "f2ecc00b-ce1a-4a6f-898a-fb16b43b96c5"
   },
   "outputs": [],
   "source": [
    "instagram_data.head()"
   ]
  },
  {
   "cell_type": "code",
   "execution_count": null,
   "metadata": {
    "colab": {
     "base_uri": "https://localhost:8080/",
     "height": 366
    },
    "id": "wCClKhZzkkd9",
    "outputId": "c02804da-9157-4d42-c2db-81c99d932c24"
   },
   "outputs": [],
   "source": [
    "instagram_data.isnull().sum()"
   ]
  },
  {
   "cell_type": "code",
   "execution_count": null,
   "metadata": {
    "id": "f0nK2GYMqbnm"
   },
   "outputs": [],
   "source": [
    "instagram_data.dropna(subset=['review_text'], inplace=True)  # Drop missing reviews\n",
    "\n",
    "instagram_data['author_app_version'] = instagram_data['author_app_version'].fillna('unknown') # Fill Nan Values"
   ]
  },
  {
   "cell_type": "code",
   "execution_count": null,
   "metadata": {
    "colab": {
     "base_uri": "https://localhost:8080/",
     "height": 366
    },
    "id": "zs7SZmuzUGl7",
    "outputId": "fea75b38-3e49-46b4-b41c-7b3224934f36"
   },
   "outputs": [],
   "source": [
    "instagram_data.isnull().sum()\n"
   ]
  },
  {
   "cell_type": "code",
   "execution_count": null,
   "metadata": {
    "colab": {
     "base_uri": "https://localhost:8080/"
    },
    "id": "egX-F9EZULDy",
    "outputId": "f1068de9-1e12-4544-dadd-8a1df82e6994"
   },
   "outputs": [],
   "source": [
    "instagram_data.shape"
   ]
  },
  {
   "cell_type": "code",
   "execution_count": null,
   "metadata": {
    "colab": {
     "base_uri": "https://localhost:8080/",
     "height": 521
    },
    "id": "3kuq67dpoxNQ",
    "outputId": "cc2f1999-96a3-455d-b4d7-3818183283b2"
   },
   "outputs": [],
   "source": [
    "instagram_data.head()"
   ]
  },
  {
   "cell_type": "code",
   "execution_count": null,
   "metadata": {
    "colab": {
     "base_uri": "https://localhost:8080/",
     "height": 272
    },
    "id": "buMOKueYUs9d",
    "outputId": "ec08839a-1081-492e-ad5a-8b0ef6f99ae6"
   },
   "outputs": [],
   "source": [
    "instagram_data['review_rating'].value_counts()"
   ]
  },
  {
   "cell_type": "code",
   "execution_count": null,
   "metadata": {
    "id": "6jv81EDf7BWq"
   },
   "outputs": [],
   "source": [
    "#labelling the ratings\n",
    "def label_sentiment(rating):\n",
    "    if rating >= 4:\n",
    "        return 'positive review'\n",
    "    elif rating == 3:\n",
    "        return 'neutral review'\n",
    "    else:\n",
    "        return 'negative review'"
   ]
  },
  {
   "cell_type": "code",
   "execution_count": null,
   "metadata": {
    "colab": {
     "base_uri": "https://localhost:8080/"
    },
    "id": "mNT8lUfsxhtx",
    "outputId": "db72cc3e-b642-431a-d67b-87d439c083f4"
   },
   "outputs": [],
   "source": [
    "instagram_data['sentiment'] = instagram_data['review_rating'].apply(label_sentiment)\n",
    "print(instagram_data['sentiment'].value_counts())"
   ]
  },
  {
   "cell_type": "code",
   "execution_count": null,
   "metadata": {
    "colab": {
     "base_uri": "https://localhost:8080/"
    },
    "id": "BB-ZsQy9dIPl",
    "outputId": "0ab12b52-4f83-417e-f006-a9ef80a658a1"
   },
   "outputs": [],
   "source": [
    "from sklearn.utils import resample\n",
    "\n",
    "df_pos = instagram_data[instagram_data['sentiment'] == 'positive review']\n",
    "df_neg = instagram_data[instagram_data['sentiment'] == 'negative review']\n",
    "df_neu = instagram_data[instagram_data['sentiment'] == 'neutral review']\n",
    "\n",
    "df_neg_upsampled = resample(df_neg,\n",
    "                            replace=True,\n",
    "                            n_samples=len(df_pos),\n",
    "                            random_state=42)\n",
    "\n",
    "df_neu_upsampled = resample(df_neu,\n",
    "                            replace=True,\n",
    "                            n_samples=len(df_pos),\n",
    "                            random_state=42)\n",
    "\n",
    "df_balanced = pd.concat([df_pos, df_neg_upsampled, df_neu_upsampled])\n",
    "print(df_balanced['sentiment'].value_counts())\n"
   ]
  },
  {
   "cell_type": "code",
   "execution_count": null,
   "metadata": {
    "id": "aV6LPRacoPeV"
   },
   "outputs": [],
   "source": [
    "port_stem=PorterStemmer()\n",
    "def stemming(content):\n",
    "  stemmed_content=re.sub('[^a-zA-Z]',' ',content)\n",
    "  stemmed_content=stemmed_content.lower()\n",
    "  stemmed_content=stemmed_content.split()\n",
    "  stemmed_content=[port_stem.stem(word) for word in stemmed_content if not word in stopwords.words('english')]\n",
    "  stemmed_content=' '.join(stemmed_content)\n",
    "  return stemmed_content"
   ]
  },
  {
   "cell_type": "code",
   "execution_count": null,
   "metadata": {
    "id": "U4VnX51NfexZ"
   },
   "outputs": [],
   "source": [
    "instagram_data['stemmed_content']=instagram_data['review_text'].apply(stemming)"
   ]
  },
  {
   "cell_type": "code",
   "execution_count": null,
   "metadata": {
    "id": "PWo-JwQY5Gl_"
   },
   "outputs": [],
   "source": [
    "instagram_data.head()"
   ]
  },
  {
   "cell_type": "code",
   "execution_count": null,
   "metadata": {
    "id": "D0fAcgeL50BI"
   },
   "outputs": [],
   "source": [
    "# Clean missing stemmed_content first\n",
    "instagram_data = instagram_data[instagram_data['stemmed_content'].notna()]\n",
    "instagram_data = instagram_data[instagram_data['stemmed_content'].str.strip() != '']\n"
   ]
  },
  {
   "cell_type": "code",
   "execution_count": null,
   "metadata": {
    "id": "QcSK41fQ5SbU"
   },
   "outputs": [],
   "source": [
    "#separating data and label\n",
    "X=instagram_data['stemmed_content'].values\n",
    "Y=instagram_data['review_rating'].values"
   ]
  },
  {
   "cell_type": "code",
   "execution_count": null,
   "metadata": {
    "id": "Iumtwu4n9MWb"
   },
   "outputs": [],
   "source": [
    "from sklearn.utils import resample\n",
    "\n",
    "df_pos = instagram_data[instagram_data['sentiment'] == 'positive review']\n",
    "df_neg = instagram_data[instagram_data['sentiment'] == 'negative review']\n",
    "df_neu = instagram_data[instagram_data['sentiment'] == 'neutral review']\n",
    "\n",
    "df_neg_upsampled = resample(df_neg, replace=True, n_samples=len(df_pos), random_state=42)\n",
    "df_neu_upsampled = resample(df_neu, replace=True, n_samples=len(df_pos), random_state=42)\n",
    "\n",
    "df_balanced = pd.concat([df_pos, df_neg_upsampled, df_neu_upsampled])\n",
    "\n",
    "# 4. Remove any missing or empty stemmed_content again (just in case)\n",
    "df_balanced = df_balanced[df_balanced['stemmed_content'].notna()]\n",
    "df_balanced = df_balanced[df_balanced['stemmed_content'].str.strip() != '']"
   ]
  },
  {
   "cell_type": "code",
   "execution_count": null,
   "metadata": {
    "id": "nsWCxuzA6uwD"
   },
   "outputs": [],
   "source": [
    "print(X)"
   ]
  },
  {
   "cell_type": "code",
   "execution_count": null,
   "metadata": {
    "id": "v5ukLobX6u58"
   },
   "outputs": [],
   "source": [
    "print(Y)"
   ]
  },
  {
   "cell_type": "code",
   "execution_count": null,
   "metadata": {
    "id": "pwfOHB2L6ulp"
   },
   "outputs": [],
   "source": [
    "#spliting data into test and training data\n",
    "X_train,X_test,Y_train,Y_test=train_test_split(X,Y,test_size=0.2,stratify=Y,random_state=2)"
   ]
  },
  {
   "cell_type": "code",
   "execution_count": null,
   "metadata": {
    "id": "uJ7qr7je6uZj"
   },
   "outputs": [],
   "source": [
    "print(X.shape,X_train.shape,X_test.shape)"
   ]
  },
  {
   "cell_type": "code",
   "execution_count": null,
   "metadata": {
    "id": "eE1lXBcs6uHf"
   },
   "outputs": [],
   "source": [
    "#converting textual data to numerical data\n",
    "vectorizer = TfidfVectorizer(ngram_range=(1,2), max_features=20000)\n",
    "X = vectorizer.fit_transform(instagram_data['stemmed_content'])"
   ]
  },
  {
   "cell_type": "code",
   "execution_count": null,
   "metadata": {
    "id": "E52kEPd_vdvq"
   },
   "outputs": [],
   "source": [
    "from sklearn.preprocessing import LabelEncoder\n",
    "le = LabelEncoder()\n",
    "y = le.fit_transform(df_balanced['sentiment'])\n"
   ]
  },
  {
   "cell_type": "code",
   "execution_count": null,
   "metadata": {
    "id": "NsbGOow8NhQM"
   },
   "outputs": [],
   "source": [
    "print(X_train)"
   ]
  },
  {
   "cell_type": "code",
   "execution_count": null,
   "metadata": {
    "id": "tI0GtWw88AHC"
   },
   "outputs": [],
   "source": [
    "print(X_test)"
   ]
  },
  {
   "cell_type": "code",
   "execution_count": null,
   "metadata": {
    "id": "Kw4UOAPd4RTQ"
   },
   "outputs": [],
   "source": [
    "print(instagram_data.shape)\n",
    "print(instagram_data['review_rating'].shape)\n",
    "\n",
    "print(df_balanced['sentiment'].shape)\n"
   ]
  },
  {
   "cell_type": "code",
   "execution_count": null,
   "metadata": {
    "id": "lsA-M2Ig8D1q"
   },
   "outputs": [],
   "source": [
    "#training the model\n",
    "model = LogisticRegression(max_iter=1000)"
   ]
  },
  {
   "cell_type": "code",
   "execution_count": null,
   "metadata": {
    "id": "nsR_gbzTBwnc"
   },
   "outputs": [],
   "source": [
    "model.fit(X_train,Y_train)"
   ]
  },
  {
   "cell_type": "code",
   "execution_count": null,
   "metadata": {
    "id": "RrLVcXeuYb-O"
   },
   "outputs": [],
   "source": [
    "#accuracy score on training model\n",
    "X_train_prediction=model.predict(X_train)\n",
    "training_data_accuracy=accuracy_score(X_train_prediction,Y_train)"
   ]
  },
  {
   "cell_type": "code",
   "execution_count": null,
   "metadata": {
    "id": "3hJcHMEZYfbR"
   },
   "outputs": [],
   "source": [
    "print('Accuracy score of the training data : ', training_data_accuracy)"
   ]
  },
  {
   "cell_type": "code",
   "execution_count": null,
   "metadata": {
    "id": "S4TDjB2vL9o1"
   },
   "outputs": [],
   "source": [
    "#accuracy score on test model\n",
    "X_test_prediction=model.predict(X_test)\n",
    "test_data_accuracy=accuracy_score(X_test_prediction,Y_test)"
   ]
  },
  {
   "cell_type": "code",
   "execution_count": null,
   "metadata": {
    "id": "NAxgdBS9I6Nw"
   },
   "outputs": [],
   "source": [
    "print('Accuracy score of the test data : ', test_data_accuracy)"
   ]
  },
  {
   "cell_type": "code",
   "execution_count": null,
   "metadata": {
    "id": "OXOH3oKZdIvf"
   },
   "outputs": [],
   "source": [
    "baseline_accuracy = df_balanced['sentiment'].value_counts(normalize=True).max()\n",
    "print(baseline_accuracy)\n"
   ]
  },
  {
   "cell_type": "code",
   "execution_count": null,
   "metadata": {
    "id": "Gcr3LKA4lLO5"
   },
   "outputs": [],
   "source": [
    "import pickle"
   ]
  },
  {
   "cell_type": "code",
   "execution_count": null,
   "metadata": {
    "id": "uL4mSgoslNLL"
   },
   "outputs": [],
   "source": [
    "filename='trained_model.sav'\n",
    "pickle.dump(model,open(filename,'wb'))"
   ]
  },
  {
   "cell_type": "code",
   "execution_count": null,
   "metadata": {
    "id": "2qQKC6vgltUu"
   },
   "outputs": [],
   "source": [
    "#loading saved model\n",
    "loaded_model=pickle.load(open('trained_model.sav','rb'))\n"
   ]
  },
  {
   "cell_type": "code",
   "execution_count": null,
   "metadata": {
    "id": "e7_r3RHXBy1u"
   },
   "outputs": [],
   "source": [
    "X_new=X_test[55]\n",
    "print(Y_test[55])\n",
    "prediction= model.predict(X_new)\n",
    "print(prediction)\n",
    "\n",
    "if prediction[0] >= 4:\n",
    "        print('positive review')\n",
    "elif prediction[0] == 3:\n",
    "        print('neutral review')\n",
    "else:\n",
    "        print('negative review')"
   ]
  },
  {
   "cell_type": "code",
   "execution_count": null,
   "metadata": {
    "id": "Y0ZybJBwFxHb"
   },
   "outputs": [],
   "source": [
    "X_new=X_test[20]\n",
    "print(Y_test[20])\n",
    "prediction= model.predict(X_new)\n",
    "print(prediction)\n",
    "\n",
    "if prediction[0] >= 4:\n",
    "        print('positive review')\n",
    "elif prediction[0] == 3:\n",
    "        print('neutral review')\n",
    "else:\n",
    "        print('negative review')"
   ]
  },
  {
   "cell_type": "code",
   "execution_count": null,
   "metadata": {
    "id": "DVhpMeinPPfq"
   },
   "outputs": [],
   "source": []
  }
 ],
 "metadata": {
  "colab": {
   "provenance": []
  },
  "kernelspec": {
   "display_name": "Python 3 (ipykernel)",
   "language": "python",
   "name": "python3"
  },
  "language_info": {
   "codemirror_mode": {
    "name": "ipython",
    "version": 3
   },
   "file_extension": ".py",
   "mimetype": "text/x-python",
   "name": "python",
   "nbconvert_exporter": "python",
   "pygments_lexer": "ipython3",
   "version": "3.13.0"
  }
 },
 "nbformat": 4,
 "nbformat_minor": 4
}
